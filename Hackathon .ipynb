{
 "cells": [
  {
   "cell_type": "code",
   "execution_count": 1,
   "id": "3ad3d8d7",
   "metadata": {},
   "outputs": [],
   "source": [
    "import pandas as pd\n",
    "import numpy as np\n",
    "import matplotlib.pyplot as plt\n",
    "import seaborn as sns"
   ]
  },
  {
   "cell_type": "code",
   "execution_count": 2,
   "id": "4f93b0b1",
   "metadata": {},
   "outputs": [],
   "source": [
    "sumbmission = pd.read_csv(\"sample_submission.csv\")"
   ]
  },
  {
   "cell_type": "code",
   "execution_count": 3,
   "id": "baf6890c",
   "metadata": {},
   "outputs": [],
   "source": [
    "train = pd.read_csv(\"train_Set.csv\")"
   ]
  },
  {
   "cell_type": "code",
   "execution_count": 4,
   "id": "8620c323",
   "metadata": {},
   "outputs": [
    {
     "data": {
      "text/html": [
       "<div>\n",
       "<style scoped>\n",
       "    .dataframe tbody tr th:only-of-type {\n",
       "        vertical-align: middle;\n",
       "    }\n",
       "\n",
       "    .dataframe tbody tr th {\n",
       "        vertical-align: top;\n",
       "    }\n",
       "\n",
       "    .dataframe thead th {\n",
       "        text-align: right;\n",
       "    }\n",
       "</style>\n",
       "<table border=\"1\" class=\"dataframe\">\n",
       "  <thead>\n",
       "    <tr style=\"text-align: right;\">\n",
       "      <th></th>\n",
       "      <th>Item_Identifier</th>\n",
       "      <th>Item_Weight</th>\n",
       "      <th>Item_Fat_Content</th>\n",
       "      <th>Item_Visibility</th>\n",
       "      <th>Item_Type</th>\n",
       "      <th>Item_MRP</th>\n",
       "      <th>Outlet_Identifier</th>\n",
       "      <th>Outlet_Establishment_Year</th>\n",
       "      <th>Outlet_Size</th>\n",
       "      <th>Outlet_Location_Type</th>\n",
       "      <th>Outlet_Type</th>\n",
       "      <th>Item_Outlet_Sales</th>\n",
       "    </tr>\n",
       "  </thead>\n",
       "  <tbody>\n",
       "    <tr>\n",
       "      <th>0</th>\n",
       "      <td>FDA15</td>\n",
       "      <td>9.30</td>\n",
       "      <td>Low Fat</td>\n",
       "      <td>0.016047</td>\n",
       "      <td>Dairy</td>\n",
       "      <td>249.8092</td>\n",
       "      <td>OUT049</td>\n",
       "      <td>1999</td>\n",
       "      <td>Medium</td>\n",
       "      <td>Tier 1</td>\n",
       "      <td>Supermarket Type1</td>\n",
       "      <td>3735.1380</td>\n",
       "    </tr>\n",
       "    <tr>\n",
       "      <th>1</th>\n",
       "      <td>DRC01</td>\n",
       "      <td>5.92</td>\n",
       "      <td>Regular</td>\n",
       "      <td>0.019278</td>\n",
       "      <td>Soft Drinks</td>\n",
       "      <td>48.2692</td>\n",
       "      <td>OUT018</td>\n",
       "      <td>2009</td>\n",
       "      <td>Medium</td>\n",
       "      <td>Tier 3</td>\n",
       "      <td>Supermarket Type2</td>\n",
       "      <td>443.4228</td>\n",
       "    </tr>\n",
       "    <tr>\n",
       "      <th>2</th>\n",
       "      <td>FDN15</td>\n",
       "      <td>17.50</td>\n",
       "      <td>Low Fat</td>\n",
       "      <td>0.016760</td>\n",
       "      <td>Meat</td>\n",
       "      <td>141.6180</td>\n",
       "      <td>OUT049</td>\n",
       "      <td>1999</td>\n",
       "      <td>Medium</td>\n",
       "      <td>Tier 1</td>\n",
       "      <td>Supermarket Type1</td>\n",
       "      <td>2097.2700</td>\n",
       "    </tr>\n",
       "    <tr>\n",
       "      <th>3</th>\n",
       "      <td>FDX07</td>\n",
       "      <td>19.20</td>\n",
       "      <td>Regular</td>\n",
       "      <td>0.000000</td>\n",
       "      <td>Fruits and Vegetables</td>\n",
       "      <td>182.0950</td>\n",
       "      <td>OUT010</td>\n",
       "      <td>1998</td>\n",
       "      <td>NaN</td>\n",
       "      <td>Tier 3</td>\n",
       "      <td>Grocery Store</td>\n",
       "      <td>732.3800</td>\n",
       "    </tr>\n",
       "    <tr>\n",
       "      <th>4</th>\n",
       "      <td>NCD19</td>\n",
       "      <td>8.93</td>\n",
       "      <td>Low Fat</td>\n",
       "      <td>0.000000</td>\n",
       "      <td>Household</td>\n",
       "      <td>53.8614</td>\n",
       "      <td>OUT013</td>\n",
       "      <td>1987</td>\n",
       "      <td>High</td>\n",
       "      <td>Tier 3</td>\n",
       "      <td>Supermarket Type1</td>\n",
       "      <td>994.7052</td>\n",
       "    </tr>\n",
       "  </tbody>\n",
       "</table>\n",
       "</div>"
      ],
      "text/plain": [
       "  Item_Identifier  Item_Weight Item_Fat_Content  Item_Visibility  \\\n",
       "0           FDA15         9.30          Low Fat         0.016047   \n",
       "1           DRC01         5.92          Regular         0.019278   \n",
       "2           FDN15        17.50          Low Fat         0.016760   \n",
       "3           FDX07        19.20          Regular         0.000000   \n",
       "4           NCD19         8.93          Low Fat         0.000000   \n",
       "\n",
       "               Item_Type  Item_MRP Outlet_Identifier  \\\n",
       "0                  Dairy  249.8092            OUT049   \n",
       "1            Soft Drinks   48.2692            OUT018   \n",
       "2                   Meat  141.6180            OUT049   \n",
       "3  Fruits and Vegetables  182.0950            OUT010   \n",
       "4              Household   53.8614            OUT013   \n",
       "\n",
       "   Outlet_Establishment_Year Outlet_Size Outlet_Location_Type  \\\n",
       "0                       1999      Medium               Tier 1   \n",
       "1                       2009      Medium               Tier 3   \n",
       "2                       1999      Medium               Tier 1   \n",
       "3                       1998         NaN               Tier 3   \n",
       "4                       1987        High               Tier 3   \n",
       "\n",
       "         Outlet_Type  Item_Outlet_Sales  \n",
       "0  Supermarket Type1          3735.1380  \n",
       "1  Supermarket Type2           443.4228  \n",
       "2  Supermarket Type1          2097.2700  \n",
       "3      Grocery Store           732.3800  \n",
       "4  Supermarket Type1           994.7052  "
      ]
     },
     "execution_count": 4,
     "metadata": {},
     "output_type": "execute_result"
    }
   ],
   "source": [
    "train.head(5)"
   ]
  },
  {
   "cell_type": "code",
   "execution_count": 5,
   "id": "b89430cc",
   "metadata": {},
   "outputs": [],
   "source": [
    "test = pd.read_csv(\"test_set.csv\")"
   ]
  },
  {
   "cell_type": "code",
   "execution_count": 6,
   "id": "f7b33f73",
   "metadata": {
    "scrolled": true
   },
   "outputs": [
    {
     "data": {
      "text/html": [
       "<div>\n",
       "<style scoped>\n",
       "    .dataframe tbody tr th:only-of-type {\n",
       "        vertical-align: middle;\n",
       "    }\n",
       "\n",
       "    .dataframe tbody tr th {\n",
       "        vertical-align: top;\n",
       "    }\n",
       "\n",
       "    .dataframe thead th {\n",
       "        text-align: right;\n",
       "    }\n",
       "</style>\n",
       "<table border=\"1\" class=\"dataframe\">\n",
       "  <thead>\n",
       "    <tr style=\"text-align: right;\">\n",
       "      <th></th>\n",
       "      <th>Item_Identifier</th>\n",
       "      <th>Item_Weight</th>\n",
       "      <th>Item_Fat_Content</th>\n",
       "      <th>Item_Visibility</th>\n",
       "      <th>Item_Type</th>\n",
       "      <th>Item_MRP</th>\n",
       "      <th>Outlet_Identifier</th>\n",
       "      <th>Outlet_Establishment_Year</th>\n",
       "      <th>Outlet_Size</th>\n",
       "      <th>Outlet_Location_Type</th>\n",
       "      <th>Outlet_Type</th>\n",
       "    </tr>\n",
       "  </thead>\n",
       "  <tbody>\n",
       "    <tr>\n",
       "      <th>0</th>\n",
       "      <td>FDW58</td>\n",
       "      <td>20.750</td>\n",
       "      <td>Low Fat</td>\n",
       "      <td>0.007565</td>\n",
       "      <td>Snack Foods</td>\n",
       "      <td>107.8622</td>\n",
       "      <td>OUT049</td>\n",
       "      <td>1999</td>\n",
       "      <td>Medium</td>\n",
       "      <td>Tier 1</td>\n",
       "      <td>Supermarket Type1</td>\n",
       "    </tr>\n",
       "    <tr>\n",
       "      <th>1</th>\n",
       "      <td>FDW14</td>\n",
       "      <td>8.300</td>\n",
       "      <td>reg</td>\n",
       "      <td>0.038428</td>\n",
       "      <td>Dairy</td>\n",
       "      <td>87.3198</td>\n",
       "      <td>OUT017</td>\n",
       "      <td>2007</td>\n",
       "      <td>NaN</td>\n",
       "      <td>Tier 2</td>\n",
       "      <td>Supermarket Type1</td>\n",
       "    </tr>\n",
       "    <tr>\n",
       "      <th>2</th>\n",
       "      <td>NCN55</td>\n",
       "      <td>14.600</td>\n",
       "      <td>Low Fat</td>\n",
       "      <td>0.099575</td>\n",
       "      <td>Others</td>\n",
       "      <td>241.7538</td>\n",
       "      <td>OUT010</td>\n",
       "      <td>1998</td>\n",
       "      <td>NaN</td>\n",
       "      <td>Tier 3</td>\n",
       "      <td>Grocery Store</td>\n",
       "    </tr>\n",
       "    <tr>\n",
       "      <th>3</th>\n",
       "      <td>FDQ58</td>\n",
       "      <td>7.315</td>\n",
       "      <td>Low Fat</td>\n",
       "      <td>0.015388</td>\n",
       "      <td>Snack Foods</td>\n",
       "      <td>155.0340</td>\n",
       "      <td>OUT017</td>\n",
       "      <td>2007</td>\n",
       "      <td>NaN</td>\n",
       "      <td>Tier 2</td>\n",
       "      <td>Supermarket Type1</td>\n",
       "    </tr>\n",
       "    <tr>\n",
       "      <th>4</th>\n",
       "      <td>FDY38</td>\n",
       "      <td>NaN</td>\n",
       "      <td>Regular</td>\n",
       "      <td>0.118599</td>\n",
       "      <td>Dairy</td>\n",
       "      <td>234.2300</td>\n",
       "      <td>OUT027</td>\n",
       "      <td>1985</td>\n",
       "      <td>Medium</td>\n",
       "      <td>Tier 3</td>\n",
       "      <td>Supermarket Type3</td>\n",
       "    </tr>\n",
       "  </tbody>\n",
       "</table>\n",
       "</div>"
      ],
      "text/plain": [
       "  Item_Identifier  Item_Weight Item_Fat_Content  Item_Visibility    Item_Type  \\\n",
       "0           FDW58       20.750          Low Fat         0.007565  Snack Foods   \n",
       "1           FDW14        8.300              reg         0.038428        Dairy   \n",
       "2           NCN55       14.600          Low Fat         0.099575       Others   \n",
       "3           FDQ58        7.315          Low Fat         0.015388  Snack Foods   \n",
       "4           FDY38          NaN          Regular         0.118599        Dairy   \n",
       "\n",
       "   Item_MRP Outlet_Identifier  Outlet_Establishment_Year Outlet_Size  \\\n",
       "0  107.8622            OUT049                       1999      Medium   \n",
       "1   87.3198            OUT017                       2007         NaN   \n",
       "2  241.7538            OUT010                       1998         NaN   \n",
       "3  155.0340            OUT017                       2007         NaN   \n",
       "4  234.2300            OUT027                       1985      Medium   \n",
       "\n",
       "  Outlet_Location_Type        Outlet_Type  \n",
       "0               Tier 1  Supermarket Type1  \n",
       "1               Tier 2  Supermarket Type1  \n",
       "2               Tier 3      Grocery Store  \n",
       "3               Tier 2  Supermarket Type1  \n",
       "4               Tier 3  Supermarket Type3  "
      ]
     },
     "execution_count": 6,
     "metadata": {},
     "output_type": "execute_result"
    }
   ],
   "source": [
    "test.head(5)"
   ]
  },
  {
   "cell_type": "code",
   "execution_count": 7,
   "id": "3a0efb79",
   "metadata": {},
   "outputs": [
    {
     "name": "stdout",
     "output_type": "stream",
     "text": [
      "shape of the test dataset is: (5681, 11)\n",
      "shape of the train dataset is: (8523, 12)\n"
     ]
    }
   ],
   "source": [
    "#checking the shape of train and test dataset:\n",
    "print('shape of the test dataset is:',test.shape )\n",
    "print('shape of the train dataset is:',train.shape )"
   ]
  },
  {
   "cell_type": "markdown",
   "id": "4fcc6810",
   "metadata": {},
   "source": [
    "# merging both test and train to clean the dataset"
   ]
  },
  {
   "cell_type": "code",
   "execution_count": 8,
   "id": "7d6a4818",
   "metadata": {},
   "outputs": [],
   "source": [
    "test['source'] ='test'\n",
    "train['source'] = 'train'"
   ]
  },
  {
   "cell_type": "code",
   "execution_count": 9,
   "id": "4ed9e33b",
   "metadata": {},
   "outputs": [],
   "source": [
    "df = pd.concat([test,train])"
   ]
  },
  {
   "cell_type": "code",
   "execution_count": 10,
   "id": "d5548ffb",
   "metadata": {},
   "outputs": [
    {
     "data": {
      "text/html": [
       "<div>\n",
       "<style scoped>\n",
       "    .dataframe tbody tr th:only-of-type {\n",
       "        vertical-align: middle;\n",
       "    }\n",
       "\n",
       "    .dataframe tbody tr th {\n",
       "        vertical-align: top;\n",
       "    }\n",
       "\n",
       "    .dataframe thead th {\n",
       "        text-align: right;\n",
       "    }\n",
       "</style>\n",
       "<table border=\"1\" class=\"dataframe\">\n",
       "  <thead>\n",
       "    <tr style=\"text-align: right;\">\n",
       "      <th></th>\n",
       "      <th>Item_Identifier</th>\n",
       "      <th>Item_Weight</th>\n",
       "      <th>Item_Fat_Content</th>\n",
       "      <th>Item_Visibility</th>\n",
       "      <th>Item_Type</th>\n",
       "      <th>Item_MRP</th>\n",
       "      <th>Outlet_Identifier</th>\n",
       "      <th>Outlet_Establishment_Year</th>\n",
       "      <th>Outlet_Size</th>\n",
       "      <th>Outlet_Location_Type</th>\n",
       "      <th>Outlet_Type</th>\n",
       "      <th>source</th>\n",
       "      <th>Item_Outlet_Sales</th>\n",
       "    </tr>\n",
       "  </thead>\n",
       "  <tbody>\n",
       "    <tr>\n",
       "      <th>0</th>\n",
       "      <td>FDW58</td>\n",
       "      <td>20.750</td>\n",
       "      <td>Low Fat</td>\n",
       "      <td>0.007565</td>\n",
       "      <td>Snack Foods</td>\n",
       "      <td>107.8622</td>\n",
       "      <td>OUT049</td>\n",
       "      <td>1999</td>\n",
       "      <td>Medium</td>\n",
       "      <td>Tier 1</td>\n",
       "      <td>Supermarket Type1</td>\n",
       "      <td>test</td>\n",
       "      <td>NaN</td>\n",
       "    </tr>\n",
       "    <tr>\n",
       "      <th>1</th>\n",
       "      <td>FDW14</td>\n",
       "      <td>8.300</td>\n",
       "      <td>reg</td>\n",
       "      <td>0.038428</td>\n",
       "      <td>Dairy</td>\n",
       "      <td>87.3198</td>\n",
       "      <td>OUT017</td>\n",
       "      <td>2007</td>\n",
       "      <td>NaN</td>\n",
       "      <td>Tier 2</td>\n",
       "      <td>Supermarket Type1</td>\n",
       "      <td>test</td>\n",
       "      <td>NaN</td>\n",
       "    </tr>\n",
       "    <tr>\n",
       "      <th>2</th>\n",
       "      <td>NCN55</td>\n",
       "      <td>14.600</td>\n",
       "      <td>Low Fat</td>\n",
       "      <td>0.099575</td>\n",
       "      <td>Others</td>\n",
       "      <td>241.7538</td>\n",
       "      <td>OUT010</td>\n",
       "      <td>1998</td>\n",
       "      <td>NaN</td>\n",
       "      <td>Tier 3</td>\n",
       "      <td>Grocery Store</td>\n",
       "      <td>test</td>\n",
       "      <td>NaN</td>\n",
       "    </tr>\n",
       "    <tr>\n",
       "      <th>3</th>\n",
       "      <td>FDQ58</td>\n",
       "      <td>7.315</td>\n",
       "      <td>Low Fat</td>\n",
       "      <td>0.015388</td>\n",
       "      <td>Snack Foods</td>\n",
       "      <td>155.0340</td>\n",
       "      <td>OUT017</td>\n",
       "      <td>2007</td>\n",
       "      <td>NaN</td>\n",
       "      <td>Tier 2</td>\n",
       "      <td>Supermarket Type1</td>\n",
       "      <td>test</td>\n",
       "      <td>NaN</td>\n",
       "    </tr>\n",
       "    <tr>\n",
       "      <th>4</th>\n",
       "      <td>FDY38</td>\n",
       "      <td>NaN</td>\n",
       "      <td>Regular</td>\n",
       "      <td>0.118599</td>\n",
       "      <td>Dairy</td>\n",
       "      <td>234.2300</td>\n",
       "      <td>OUT027</td>\n",
       "      <td>1985</td>\n",
       "      <td>Medium</td>\n",
       "      <td>Tier 3</td>\n",
       "      <td>Supermarket Type3</td>\n",
       "      <td>test</td>\n",
       "      <td>NaN</td>\n",
       "    </tr>\n",
       "  </tbody>\n",
       "</table>\n",
       "</div>"
      ],
      "text/plain": [
       "  Item_Identifier  Item_Weight Item_Fat_Content  Item_Visibility    Item_Type  \\\n",
       "0           FDW58       20.750          Low Fat         0.007565  Snack Foods   \n",
       "1           FDW14        8.300              reg         0.038428        Dairy   \n",
       "2           NCN55       14.600          Low Fat         0.099575       Others   \n",
       "3           FDQ58        7.315          Low Fat         0.015388  Snack Foods   \n",
       "4           FDY38          NaN          Regular         0.118599        Dairy   \n",
       "\n",
       "   Item_MRP Outlet_Identifier  Outlet_Establishment_Year Outlet_Size  \\\n",
       "0  107.8622            OUT049                       1999      Medium   \n",
       "1   87.3198            OUT017                       2007         NaN   \n",
       "2  241.7538            OUT010                       1998         NaN   \n",
       "3  155.0340            OUT017                       2007         NaN   \n",
       "4  234.2300            OUT027                       1985      Medium   \n",
       "\n",
       "  Outlet_Location_Type        Outlet_Type source  Item_Outlet_Sales  \n",
       "0               Tier 1  Supermarket Type1   test                NaN  \n",
       "1               Tier 2  Supermarket Type1   test                NaN  \n",
       "2               Tier 3      Grocery Store   test                NaN  \n",
       "3               Tier 2  Supermarket Type1   test                NaN  \n",
       "4               Tier 3  Supermarket Type3   test                NaN  "
      ]
     },
     "execution_count": 10,
     "metadata": {},
     "output_type": "execute_result"
    }
   ],
   "source": [
    "df.head(5)"
   ]
  },
  {
   "cell_type": "code",
   "execution_count": 11,
   "id": "65734352",
   "metadata": {},
   "outputs": [
    {
     "name": "stdout",
     "output_type": "stream",
     "text": [
      "shape of the combined test & train dataset is : (14204, 13)\n"
     ]
    }
   ],
   "source": [
    "print('shape of the combined test & train dataset is :',df.shape )"
   ]
  },
  {
   "cell_type": "markdown",
   "id": "f471a45d",
   "metadata": {},
   "source": [
    "# Identifying numerical and categorical columns in df dataset"
   ]
  },
  {
   "cell_type": "code",
   "execution_count": 12,
   "id": "bdfe8945",
   "metadata": {
    "scrolled": false
   },
   "outputs": [
    {
     "data": {
      "text/plain": [
       "Item_Identifier               object\n",
       "Item_Weight                  float64\n",
       "Item_Fat_Content              object\n",
       "Item_Visibility              float64\n",
       "Item_Type                     object\n",
       "Item_MRP                     float64\n",
       "Outlet_Identifier             object\n",
       "Outlet_Establishment_Year      int64\n",
       "Outlet_Size                   object\n",
       "Outlet_Location_Type          object\n",
       "Outlet_Type                   object\n",
       "source                        object\n",
       "Item_Outlet_Sales            float64\n",
       "dtype: object"
      ]
     },
     "execution_count": 12,
     "metadata": {},
     "output_type": "execute_result"
    }
   ],
   "source": [
    "df.dtypes"
   ]
  },
  {
   "cell_type": "code",
   "execution_count": 13,
   "id": "b1c9eca9",
   "metadata": {},
   "outputs": [],
   "source": [
    "numerical = df.select_dtypes(include = np.number).drop(columns = ['Item_Outlet_Sales','Outlet_Establishment_Year']).columns\n",
    "categorical = df.select_dtypes(exclude = np.number).columns"
   ]
  },
  {
   "cell_type": "code",
   "execution_count": 14,
   "id": "f390aafe",
   "metadata": {},
   "outputs": [
    {
     "name": "stdout",
     "output_type": "stream",
     "text": [
      "These are numerical column in dataset Index(['Item_Weight', 'Item_Visibility', 'Item_MRP'], dtype='object')\n",
      "------------------------------------------------------------------------------------------------------------------------\n",
      "These are categorical column in dataset Index(['Item_Identifier', 'Item_Fat_Content', 'Item_Type', 'Outlet_Identifier',\n",
      "       'Outlet_Size', 'Outlet_Location_Type', 'Outlet_Type', 'source'],\n",
      "      dtype='object')\n"
     ]
    }
   ],
   "source": [
    "print('These are numerical column in dataset',numerical)\n",
    "print('--'*60)\n",
    "print('These are categorical column in dataset',categorical)"
   ]
  },
  {
   "cell_type": "code",
   "execution_count": 15,
   "id": "ffb8bf29",
   "metadata": {},
   "outputs": [
    {
     "name": "stdout",
     "output_type": "stream",
     "text": [
      "FDY28    10\n",
      "FDM46    10\n",
      "FDG46    10\n",
      "NCQ42    10\n",
      "FDX50    10\n",
      "         ..\n",
      "FDM50     7\n",
      "FDM10     7\n",
      "FDH58     7\n",
      "FDM52     7\n",
      "FDO33     7\n",
      "Name: Item_Identifier, Length: 1559, dtype: int64\n",
      "Low Fat    8485\n",
      "Regular    4824\n",
      "LF          522\n",
      "reg         195\n",
      "low fat     178\n",
      "Name: Item_Fat_Content, dtype: int64\n",
      "Fruits and Vegetables    2013\n",
      "Snack Foods              1989\n",
      "Household                1548\n",
      "Frozen Foods             1426\n",
      "Dairy                    1136\n",
      "Baking Goods             1086\n",
      "Canned                   1084\n",
      "Health and Hygiene        858\n",
      "Meat                      736\n",
      "Soft Drinks               726\n",
      "Breads                    416\n",
      "Hard Drinks               362\n",
      "Others                    280\n",
      "Starchy Foods             269\n",
      "Breakfast                 186\n",
      "Seafood                    89\n",
      "Name: Item_Type, dtype: int64\n",
      "OUT027    1559\n",
      "OUT013    1553\n",
      "OUT049    1550\n",
      "OUT046    1550\n",
      "OUT035    1550\n",
      "OUT045    1548\n",
      "OUT018    1546\n",
      "OUT017    1543\n",
      "OUT010     925\n",
      "OUT019     880\n",
      "Name: Outlet_Identifier, dtype: int64\n",
      "Medium    4655\n",
      "Small     3980\n",
      "High      1553\n",
      "Name: Outlet_Size, dtype: int64\n",
      "Tier 3    5583\n",
      "Tier 2    4641\n",
      "Tier 1    3980\n",
      "Name: Outlet_Location_Type, dtype: int64\n",
      "Supermarket Type1    9294\n",
      "Grocery Store        1805\n",
      "Supermarket Type3    1559\n",
      "Supermarket Type2    1546\n",
      "Name: Outlet_Type, dtype: int64\n",
      "train    8523\n",
      "test     5681\n",
      "Name: source, dtype: int64\n"
     ]
    },
    {
     "data": {
      "text/plain": [
       "Item_Identifier         None\n",
       "Item_Fat_Content        None\n",
       "Item_Type               None\n",
       "Outlet_Identifier       None\n",
       "Outlet_Size             None\n",
       "Outlet_Location_Type    None\n",
       "Outlet_Type             None\n",
       "source                  None\n",
       "dtype: object"
      ]
     },
     "execution_count": 15,
     "metadata": {},
     "output_type": "execute_result"
    }
   ],
   "source": [
    "#we are checking the categorical columns \n",
    "#to get any relations or to get any idea from dataset\n",
    "\n",
    "df[categorical].apply(lambda x: print(x.value_counts()))"
   ]
  },
  {
   "cell_type": "code",
   "execution_count": 16,
   "id": "68b9fe9a",
   "metadata": {},
   "outputs": [],
   "source": [
    "df[\"Identifier\"] = df[\"Item_Identifier\"].apply(lambda x: x[0:3])"
   ]
  },
  {
   "cell_type": "code",
   "execution_count": 17,
   "id": "60db7d02",
   "metadata": {
    "scrolled": true
   },
   "outputs": [
    {
     "data": {
      "text/plain": [
       "FDT    467\n",
       "FDW    460\n",
       "FDX    460\n",
       "FDV    454\n",
       "FDU    452\n",
       "      ... \n",
       "DRO     27\n",
       "DRP     19\n",
       "DRZ     18\n",
       "DRY      9\n",
       "DRQ      9\n",
       "Name: Identifier, Length: 71, dtype: int64"
      ]
     },
     "execution_count": 17,
     "metadata": {},
     "output_type": "execute_result"
    }
   ],
   "source": [
    "df['Identifier'].value_counts()"
   ]
  },
  {
   "cell_type": "code",
   "execution_count": 18,
   "id": "e20f3193",
   "metadata": {},
   "outputs": [],
   "source": [
    "df[\"Identifier_1\"] = df[\"Item_Identifier\"].apply(lambda x: x[0:2])"
   ]
  },
  {
   "cell_type": "code",
   "execution_count": 19,
   "id": "74a03fbd",
   "metadata": {},
   "outputs": [
    {
     "data": {
      "text/plain": [
       "FD    10201\n",
       "NC     2686\n",
       "DR     1317\n",
       "Name: Identifier_1, dtype: int64"
      ]
     },
     "execution_count": 19,
     "metadata": {},
     "output_type": "execute_result"
    }
   ],
   "source": [
    "df['Identifier_1'].value_counts()"
   ]
  },
  {
   "cell_type": "code",
   "execution_count": 20,
   "id": "ae84b944",
   "metadata": {},
   "outputs": [],
   "source": [
    "#here we can combine with any near by colum to get relation ship "
   ]
  },
  {
   "cell_type": "code",
   "execution_count": 21,
   "id": "556cdeb2",
   "metadata": {},
   "outputs": [
    {
     "data": {
      "text/plain": [
       "Identifier_1  Item_Type            \n",
       "DR            Dairy                     229\n",
       "              Hard Drinks               362\n",
       "              Soft Drinks               726\n",
       "FD            Baking Goods             1086\n",
       "              Breads                    416\n",
       "              Breakfast                 186\n",
       "              Canned                   1084\n",
       "              Dairy                     907\n",
       "              Frozen Foods             1426\n",
       "              Fruits and Vegetables    2013\n",
       "              Meat                      736\n",
       "              Seafood                    89\n",
       "              Snack Foods              1989\n",
       "              Starchy Foods             269\n",
       "NC            Health and Hygiene        858\n",
       "              Household                1548\n",
       "              Others                    280\n",
       "Name: Item_Identifier, dtype: int64"
      ]
     },
     "execution_count": 21,
     "metadata": {},
     "output_type": "execute_result"
    }
   ],
   "source": [
    "df.groupby(by = [\"Identifier_1\",\"Item_Type\"])[\"Item_Identifier\"].count()"
   ]
  },
  {
   "cell_type": "code",
   "execution_count": 22,
   "id": "85110f69",
   "metadata": {},
   "outputs": [],
   "source": [
    "#here we can come to conclusion that \n",
    "#FD means Foods\n",
    "#Dr means Drinks\n",
    "#Nc means Nonconsumables\n"
   ]
  },
  {
   "cell_type": "code",
   "execution_count": 23,
   "id": "365faaf1",
   "metadata": {},
   "outputs": [],
   "source": [
    "#next we proceed with Item Fat Content column\n",
    "df[\"Item_Fat_Content\"] = df[\"Item_Fat_Content\"].replace({\"LF\": 'Low Fat',\"low fat\": 'Low Fat',\"reg\": 'Regular'})"
   ]
  },
  {
   "cell_type": "code",
   "execution_count": 24,
   "id": "cc581881",
   "metadata": {},
   "outputs": [
    {
     "data": {
      "text/plain": [
       "Low Fat    9185\n",
       "Regular    5019\n",
       "Name: Item_Fat_Content, dtype: int64"
      ]
     },
     "execution_count": 24,
     "metadata": {},
     "output_type": "execute_result"
    }
   ],
   "source": [
    "#we have make some changes and make a group of low fat and regular\n",
    "\n",
    "df['Item_Fat_Content'].value_counts()"
   ]
  },
  {
   "cell_type": "code",
   "execution_count": 25,
   "id": "05a5e2c6",
   "metadata": {
    "scrolled": false
   },
   "outputs": [
    {
     "data": {
      "text/plain": [
       "Outlet_Identifier  Outlet_Establishment_Year\n",
       "OUT010             1998                          925\n",
       "OUT013             1987                         1553\n",
       "OUT017             2007                         1543\n",
       "OUT018             2009                         1546\n",
       "OUT019             1985                          880\n",
       "OUT027             1985                         1559\n",
       "OUT035             2004                         1550\n",
       "OUT045             2002                         1548\n",
       "OUT046             1997                         1550\n",
       "OUT049             1999                         1550\n",
       "Name: Outlet_Establishment_Year, dtype: int64"
      ]
     },
     "execution_count": 25,
     "metadata": {},
     "output_type": "execute_result"
    }
   ],
   "source": [
    "#though we cannot makes any changes in item type\n",
    "#we can pass over to outlet identifer column\n",
    "#groupbying and checking any relation ship with idependent variable\n",
    "\n",
    "df.groupby([\"Outlet_Identifier\"])[\"Outlet_Establishment_Year\"].value_counts()\n"
   ]
  },
  {
   "cell_type": "code",
   "execution_count": 26,
   "id": "f4ec1d60",
   "metadata": {
    "scrolled": true
   },
   "outputs": [
    {
     "data": {
      "text/plain": [
       "1985    2439\n",
       "1987    1553\n",
       "1999    1550\n",
       "1997    1550\n",
       "2004    1550\n",
       "2002    1548\n",
       "2009    1546\n",
       "2007    1543\n",
       "1998     925\n",
       "Name: Outlet_Establishment_Year, dtype: int64"
      ]
     },
     "execution_count": 26,
     "metadata": {},
     "output_type": "execute_result"
    }
   ],
   "source": [
    "df['Outlet_Establishment_Year'].value_counts()"
   ]
  },
  {
   "cell_type": "code",
   "execution_count": 27,
   "id": "182f07ce",
   "metadata": {},
   "outputs": [
    {
     "data": {
      "text/plain": [
       "Outlet_Identifier  Outlet_Size  Outlet_Establishment_Year\n",
       "OUT013             High         1987                         1553\n",
       "OUT018             Medium       2009                         1546\n",
       "OUT019             Small        1985                          880\n",
       "OUT027             Medium       1985                         1559\n",
       "OUT035             Small        2004                         1550\n",
       "OUT046             Small        1997                         1550\n",
       "OUT049             Medium       1999                         1550\n",
       "Name: Outlet_Establishment_Year, dtype: int64"
      ]
     },
     "execution_count": 27,
     "metadata": {},
     "output_type": "execute_result"
    }
   ],
   "source": [
    "outlet = df.groupby([\"Outlet_Identifier\",'Outlet_Size'])[\"Outlet_Establishment_Year\"].value_counts()\n",
    "outlet"
   ]
  },
  {
   "cell_type": "code",
   "execution_count": 28,
   "id": "1c197fba",
   "metadata": {},
   "outputs": [
    {
     "data": {
      "text/plain": [
       "False    10188\n",
       "True      4016\n",
       "Name: Outlet_Size, dtype: int64"
      ]
     },
     "execution_count": 28,
     "metadata": {},
     "output_type": "execute_result"
    }
   ],
   "source": [
    "#here we can see some datas missing in some columns\n",
    "#we can identity it\n",
    "\n",
    "df[\"Outlet_Size\"].isna().value_counts()"
   ]
  },
  {
   "cell_type": "code",
   "execution_count": 29,
   "id": "81079b53",
   "metadata": {
    "scrolled": true
   },
   "outputs": [
    {
     "name": "stdout",
     "output_type": "stream",
     "text": [
      "AxesSubplot(0.125,0.11;0.775x0.77)\n"
     ]
    },
    {
     "data": {
      "image/png": "[encoded data removed]",
      "text/plain": [
       "<Figure size 400x300 with 1 Axes>"
      ]
     },
     "metadata": {},
     "output_type": "display_data"
    }
   ],
   "source": [
    "#here we found that in outlet size there are 4016 data missing\n",
    "#and from above methods we calculated that outlet identifier and outlet size is common for all\n",
    "#Example if out013 it was established in 1987 and all throught out year only outlet size HIGH is established\n",
    "#checked for all\n",
    "#visual representation \n",
    "plt.figure(figsize= (4,3))\n",
    "print(outlet.plot(kind ='bar'))\n"
   ]
  },
  {
   "cell_type": "code",
   "execution_count": 30,
   "id": "f70f3ccf",
   "metadata": {
    "scrolled": true
   },
   "outputs": [
    {
     "data": {
      "text/plain": [
       "Outlet_Establishment_Year\n",
       "1985    Medium\n",
       "1987      High\n",
       "1997     Small\n",
       "1998       NaN\n",
       "1999    Medium\n",
       "2002       NaN\n",
       "2004     Small\n",
       "2007       NaN\n",
       "2009    Medium\n",
       "Name: Outlet_Size, dtype: object"
      ]
     },
     "execution_count": 30,
     "metadata": {},
     "output_type": "execute_result"
    }
   ],
   "source": [
    "#we have missing values in the outlet establishment year of 1998,2002,2007\n",
    "df.groupby(\"Outlet_Establishment_Year\")['Outlet_Size'].agg(lambda x: x.mode() if not x.isna().all() else np.nan)\n"
   ]
  },
  {
   "cell_type": "code",
   "execution_count": 31,
   "id": "1ab03fc1",
   "metadata": {
    "scrolled": true
   },
   "outputs": [
    {
     "data": {
      "text/html": [
       "<div>\n",
       "<style scoped>\n",
       "    .dataframe tbody tr th:only-of-type {\n",
       "        vertical-align: middle;\n",
       "    }\n",
       "\n",
       "    .dataframe tbody tr th {\n",
       "        vertical-align: top;\n",
       "    }\n",
       "\n",
       "    .dataframe thead th {\n",
       "        text-align: right;\n",
       "    }\n",
       "</style>\n",
       "<table border=\"1\" class=\"dataframe\">\n",
       "  <thead>\n",
       "    <tr style=\"text-align: right;\">\n",
       "      <th></th>\n",
       "      <th>Outlet_Establishment_Year</th>\n",
       "      <th>Outlet_Location_Type</th>\n",
       "      <th>Outlet_Identifier</th>\n",
       "      <th>Outlet_Type</th>\n",
       "      <th>Outlet_Size</th>\n",
       "      <th>size</th>\n",
       "    </tr>\n",
       "  </thead>\n",
       "  <tbody>\n",
       "    <tr>\n",
       "      <th>0</th>\n",
       "      <td>1985</td>\n",
       "      <td>Tier 1</td>\n",
       "      <td>OUT019</td>\n",
       "      <td>Grocery Store</td>\n",
       "      <td>Small</td>\n",
       "      <td>880</td>\n",
       "    </tr>\n",
       "    <tr>\n",
       "      <th>1</th>\n",
       "      <td>1985</td>\n",
       "      <td>Tier 3</td>\n",
       "      <td>OUT027</td>\n",
       "      <td>Supermarket Type3</td>\n",
       "      <td>Medium</td>\n",
       "      <td>1559</td>\n",
       "    </tr>\n",
       "    <tr>\n",
       "      <th>2</th>\n",
       "      <td>1987</td>\n",
       "      <td>Tier 3</td>\n",
       "      <td>OUT013</td>\n",
       "      <td>Supermarket Type1</td>\n",
       "      <td>High</td>\n",
       "      <td>1553</td>\n",
       "    </tr>\n",
       "    <tr>\n",
       "      <th>3</th>\n",
       "      <td>1997</td>\n",
       "      <td>Tier 1</td>\n",
       "      <td>OUT046</td>\n",
       "      <td>Supermarket Type1</td>\n",
       "      <td>Small</td>\n",
       "      <td>1550</td>\n",
       "    </tr>\n",
       "    <tr>\n",
       "      <th>4</th>\n",
       "      <td>1998</td>\n",
       "      <td>Tier 3</td>\n",
       "      <td>OUT010</td>\n",
       "      <td>Grocery Store</td>\n",
       "      <td>NaN</td>\n",
       "      <td>925</td>\n",
       "    </tr>\n",
       "    <tr>\n",
       "      <th>5</th>\n",
       "      <td>1999</td>\n",
       "      <td>Tier 1</td>\n",
       "      <td>OUT049</td>\n",
       "      <td>Supermarket Type1</td>\n",
       "      <td>Medium</td>\n",
       "      <td>1550</td>\n",
       "    </tr>\n",
       "    <tr>\n",
       "      <th>6</th>\n",
       "      <td>2002</td>\n",
       "      <td>Tier 2</td>\n",
       "      <td>OUT045</td>\n",
       "      <td>Supermarket Type1</td>\n",
       "      <td>NaN</td>\n",
       "      <td>1548</td>\n",
       "    </tr>\n",
       "    <tr>\n",
       "      <th>7</th>\n",
       "      <td>2004</td>\n",
       "      <td>Tier 2</td>\n",
       "      <td>OUT035</td>\n",
       "      <td>Supermarket Type1</td>\n",
       "      <td>Small</td>\n",
       "      <td>1550</td>\n",
       "    </tr>\n",
       "    <tr>\n",
       "      <th>8</th>\n",
       "      <td>2007</td>\n",
       "      <td>Tier 2</td>\n",
       "      <td>OUT017</td>\n",
       "      <td>Supermarket Type1</td>\n",
       "      <td>NaN</td>\n",
       "      <td>1543</td>\n",
       "    </tr>\n",
       "    <tr>\n",
       "      <th>9</th>\n",
       "      <td>2009</td>\n",
       "      <td>Tier 3</td>\n",
       "      <td>OUT018</td>\n",
       "      <td>Supermarket Type2</td>\n",
       "      <td>Medium</td>\n",
       "      <td>1546</td>\n",
       "    </tr>\n",
       "  </tbody>\n",
       "</table>\n",
       "</div>"
      ],
      "text/plain": [
       "   Outlet_Establishment_Year Outlet_Location_Type Outlet_Identifier  \\\n",
       "0                       1985               Tier 1            OUT019   \n",
       "1                       1985               Tier 3            OUT027   \n",
       "2                       1987               Tier 3            OUT013   \n",
       "3                       1997               Tier 1            OUT046   \n",
       "4                       1998               Tier 3            OUT010   \n",
       "5                       1999               Tier 1            OUT049   \n",
       "6                       2002               Tier 2            OUT045   \n",
       "7                       2004               Tier 2            OUT035   \n",
       "8                       2007               Tier 2            OUT017   \n",
       "9                       2009               Tier 3            OUT018   \n",
       "\n",
       "         Outlet_Type Outlet_Size  size  \n",
       "0      Grocery Store       Small   880  \n",
       "1  Supermarket Type3      Medium  1559  \n",
       "2  Supermarket Type1        High  1553  \n",
       "3  Supermarket Type1       Small  1550  \n",
       "4      Grocery Store         NaN   925  \n",
       "5  Supermarket Type1      Medium  1550  \n",
       "6  Supermarket Type1         NaN  1548  \n",
       "7  Supermarket Type1       Small  1550  \n",
       "8  Supermarket Type1         NaN  1543  \n",
       "9  Supermarket Type2      Medium  1546  "
      ]
     },
     "execution_count": 31,
     "metadata": {},
     "output_type": "execute_result"
    }
   ],
   "source": [
    "df.groupby(['Outlet_Establishment_Year','Outlet_Location_Type','Outlet_Identifier','Outlet_Type','Outlet_Size'],as_index=False,dropna=False).size()"
   ]
  },
  {
   "cell_type": "code",
   "execution_count": 32,
   "id": "6944677a",
   "metadata": {
    "scrolled": true
   },
   "outputs": [
    {
     "data": {
      "text/html": [
       "<div>\n",
       "<style scoped>\n",
       "    .dataframe tbody tr th:only-of-type {\n",
       "        vertical-align: middle;\n",
       "    }\n",
       "\n",
       "    .dataframe tbody tr th {\n",
       "        vertical-align: top;\n",
       "    }\n",
       "\n",
       "    .dataframe thead th {\n",
       "        text-align: right;\n",
       "    }\n",
       "</style>\n",
       "<table border=\"1\" class=\"dataframe\">\n",
       "  <thead>\n",
       "    <tr style=\"text-align: right;\">\n",
       "      <th></th>\n",
       "      <th>Outlet_Location_Type</th>\n",
       "      <th>Outlet_Type</th>\n",
       "      <th>Outlet_Size</th>\n",
       "      <th>size</th>\n",
       "    </tr>\n",
       "  </thead>\n",
       "  <tbody>\n",
       "    <tr>\n",
       "      <th>0</th>\n",
       "      <td>Tier 1</td>\n",
       "      <td>Grocery Store</td>\n",
       "      <td>Small</td>\n",
       "      <td>880</td>\n",
       "    </tr>\n",
       "    <tr>\n",
       "      <th>1</th>\n",
       "      <td>Tier 1</td>\n",
       "      <td>Supermarket Type1</td>\n",
       "      <td>Medium</td>\n",
       "      <td>1550</td>\n",
       "    </tr>\n",
       "    <tr>\n",
       "      <th>2</th>\n",
       "      <td>Tier 1</td>\n",
       "      <td>Supermarket Type1</td>\n",
       "      <td>Small</td>\n",
       "      <td>1550</td>\n",
       "    </tr>\n",
       "    <tr>\n",
       "      <th>3</th>\n",
       "      <td>Tier 2</td>\n",
       "      <td>Supermarket Type1</td>\n",
       "      <td>Small</td>\n",
       "      <td>1550</td>\n",
       "    </tr>\n",
       "    <tr>\n",
       "      <th>4</th>\n",
       "      <td>Tier 2</td>\n",
       "      <td>Supermarket Type1</td>\n",
       "      <td>NaN</td>\n",
       "      <td>3091</td>\n",
       "    </tr>\n",
       "    <tr>\n",
       "      <th>5</th>\n",
       "      <td>Tier 3</td>\n",
       "      <td>Grocery Store</td>\n",
       "      <td>NaN</td>\n",
       "      <td>925</td>\n",
       "    </tr>\n",
       "    <tr>\n",
       "      <th>6</th>\n",
       "      <td>Tier 3</td>\n",
       "      <td>Supermarket Type1</td>\n",
       "      <td>High</td>\n",
       "      <td>1553</td>\n",
       "    </tr>\n",
       "    <tr>\n",
       "      <th>7</th>\n",
       "      <td>Tier 3</td>\n",
       "      <td>Supermarket Type2</td>\n",
       "      <td>Medium</td>\n",
       "      <td>1546</td>\n",
       "    </tr>\n",
       "    <tr>\n",
       "      <th>8</th>\n",
       "      <td>Tier 3</td>\n",
       "      <td>Supermarket Type3</td>\n",
       "      <td>Medium</td>\n",
       "      <td>1559</td>\n",
       "    </tr>\n",
       "  </tbody>\n",
       "</table>\n",
       "</div>"
      ],
      "text/plain": [
       "  Outlet_Location_Type        Outlet_Type Outlet_Size  size\n",
       "0               Tier 1      Grocery Store       Small   880\n",
       "1               Tier 1  Supermarket Type1      Medium  1550\n",
       "2               Tier 1  Supermarket Type1       Small  1550\n",
       "3               Tier 2  Supermarket Type1       Small  1550\n",
       "4               Tier 2  Supermarket Type1         NaN  3091\n",
       "5               Tier 3      Grocery Store         NaN   925\n",
       "6               Tier 3  Supermarket Type1        High  1553\n",
       "7               Tier 3  Supermarket Type2      Medium  1546\n",
       "8               Tier 3  Supermarket Type3      Medium  1559"
      ]
     },
     "execution_count": 32,
     "metadata": {},
     "output_type": "execute_result"
    }
   ],
   "source": [
    "#from above we found that \n",
    "#for years 1998,2002,2007 \n",
    "#we can also replace missing values in Oulet size by outlet type\n",
    "df.groupby(['Outlet_Location_Type','Outlet_Type','Outlet_Size'],as_index= False,dropna =False).size()\n",
    "\n"
   ]
  },
  {
   "cell_type": "markdown",
   "id": "97d97b69",
   "metadata": {},
   "source": [
    "*In this inference we can come to conclusion that \n",
    "\n",
    "*For year 1985 Grocery store outlet size is 'Small' and we can imptute 1998 as small in outlet size\n",
    "\n",
    "*For  year  2004 outlet size is small and it has same  location type \"Tier 2\" and same as outlettype \"Supermarket type 2\",so we can impute 2002,2007 as \"Samll\"as outlet size "
   ]
  },
  {
   "cell_type": "code",
   "execution_count": 33,
   "id": "f023b1c1",
   "metadata": {
    "scrolled": false
   },
   "outputs": [],
   "source": [
    "df['Outlet_Size'].fillna(\"Small\",inplace =True)"
   ]
  },
  {
   "cell_type": "code",
   "execution_count": 34,
   "id": "616c91c1",
   "metadata": {},
   "outputs": [
    {
     "data": {
      "text/plain": [
       "False    14204\n",
       "Name: Outlet_Location_Type, dtype: int64"
      ]
     },
     "execution_count": 34,
     "metadata": {},
     "output_type": "execute_result"
    }
   ],
   "source": [
    "#looking into the next categorical columns to be imputed\n",
    "df['Outlet_Location_Type'].isna().value_counts()"
   ]
  },
  {
   "cell_type": "code",
   "execution_count": 35,
   "id": "f769fb53",
   "metadata": {},
   "outputs": [
    {
     "data": {
      "text/plain": [
       "False    14204\n",
       "Name: Outlet_Type, dtype: int64"
      ]
     },
     "execution_count": 35,
     "metadata": {},
     "output_type": "execute_result"
    }
   ],
   "source": [
    "#since there is no nan values in oulet location \n",
    "#we are moving ahead to next columns \n",
    "df['Outlet_Type'].isna().value_counts()"
   ]
  },
  {
   "cell_type": "markdown",
   "id": "2afc3970",
   "metadata": {},
   "source": [
    "# calculating the numerical  missing values in dataset"
   ]
  },
  {
   "cell_type": "code",
   "execution_count": 39,
   "id": "0e4760cb",
   "metadata": {},
   "outputs": [],
   "source": [
    "missing_data = [i for i in  df.columns if df[i].isna().sum()> 0]\n"
   ]
  },
  {
   "cell_type": "code",
   "execution_count": 40,
   "id": "d0a8011e",
   "metadata": {
    "scrolled": true
   },
   "outputs": [
    {
     "data": {
      "text/plain": [
       "['Item_Weight', 'Item_Outlet_Sales']"
      ]
     },
     "execution_count": 40,
     "metadata": {},
     "output_type": "execute_result"
    }
   ],
   "source": [
    "missing_data"
   ]
  },
  {
   "cell_type": "markdown",
   "id": "b722201a",
   "metadata": {},
   "source": [
    "*CHECKING THE TOTAL PERCENT OF DATA IS MISSING"
   ]
  },
  {
   "cell_type": "code",
   "execution_count": 41,
   "id": "a69ae4eb",
   "metadata": {},
   "outputs": [
    {
     "name": "stdout",
     "output_type": "stream",
     "text": [
      "Item_Weight          17.171\n",
      "Item_Outlet_Sales    39.996\n",
      "dtype: float64\n"
     ]
    }
   ],
   "source": [
    "print(np.round(df[missing_data].isna().mean()*100,3))"
   ]
  },
  {
   "cell_type": "code",
   "execution_count": 42,
   "id": "e6e01a11",
   "metadata": {
    "scrolled": true
   },
   "outputs": [
    {
     "data": {
      "text/plain": [
       "False    11765\n",
       "True      2439\n",
       "Name: Item_Weight, dtype: int64"
      ]
     },
     "execution_count": 42,
     "metadata": {},
     "output_type": "execute_result"
    }
   ],
   "source": [
    "df[\"Item_Weight\"].isna().value_counts()"
   ]
  },
  {
   "cell_type": "markdown",
   "id": "c53cf43f",
   "metadata": {},
   "source": [
    "# we found that 2439 missing data in item weight as NaN values"
   ]
  },
  {
   "cell_type": "markdown",
   "id": "e310ae66",
   "metadata": {},
   "source": [
    "* Finding the way to filling na values"
   ]
  },
  {
   "cell_type": "code",
   "execution_count": 43,
   "id": "3003c55b",
   "metadata": {},
   "outputs": [],
   "source": [
    "df1 = df[(df[\"Outlet_Establishment_Year\"] < 1986) & (df[\"Outlet_Establishment_Year\"] > 1984)]"
   ]
  },
  {
   "cell_type": "code",
   "execution_count": 44,
   "id": "7443ade5",
   "metadata": {
    "scrolled": false
   },
   "outputs": [
    {
     "data": {
      "text/html": [
       "<div>\n",
       "<style scoped>\n",
       "    .dataframe tbody tr th:only-of-type {\n",
       "        vertical-align: middle;\n",
       "    }\n",
       "\n",
       "    .dataframe tbody tr th {\n",
       "        vertical-align: top;\n",
       "    }\n",
       "\n",
       "    .dataframe thead th {\n",
       "        text-align: right;\n",
       "    }\n",
       "</style>\n",
       "<table border=\"1\" class=\"dataframe\">\n",
       "  <thead>\n",
       "    <tr style=\"text-align: right;\">\n",
       "      <th></th>\n",
       "      <th>Item_Identifier</th>\n",
       "      <th>Item_Weight</th>\n",
       "      <th>Item_Fat_Content</th>\n",
       "      <th>Item_Visibility</th>\n",
       "      <th>Item_Type</th>\n",
       "      <th>Item_MRP</th>\n",
       "      <th>Outlet_Identifier</th>\n",
       "      <th>Outlet_Establishment_Year</th>\n",
       "      <th>Outlet_Size</th>\n",
       "      <th>Outlet_Location_Type</th>\n",
       "      <th>Outlet_Type</th>\n",
       "      <th>source</th>\n",
       "      <th>Item_Outlet_Sales</th>\n",
       "      <th>Identifier</th>\n",
       "      <th>Identifier_1</th>\n",
       "    </tr>\n",
       "  </thead>\n",
       "  <tbody>\n",
       "    <tr>\n",
       "      <th>4</th>\n",
       "      <td>FDY38</td>\n",
       "      <td>NaN</td>\n",
       "      <td>Regular</td>\n",
       "      <td>0.118599</td>\n",
       "      <td>Dairy</td>\n",
       "      <td>234.2300</td>\n",
       "      <td>OUT027</td>\n",
       "      <td>1985</td>\n",
       "      <td>Medium</td>\n",
       "      <td>Tier 3</td>\n",
       "      <td>Supermarket Type3</td>\n",
       "      <td>test</td>\n",
       "      <td>NaN</td>\n",
       "      <td>FDY</td>\n",
       "      <td>FD</td>\n",
       "    </tr>\n",
       "    <tr>\n",
       "      <th>7</th>\n",
       "      <td>FDC48</td>\n",
       "      <td>NaN</td>\n",
       "      <td>Low Fat</td>\n",
       "      <td>0.015782</td>\n",
       "      <td>Baking Goods</td>\n",
       "      <td>81.0592</td>\n",
       "      <td>OUT027</td>\n",
       "      <td>1985</td>\n",
       "      <td>Medium</td>\n",
       "      <td>Tier 3</td>\n",
       "      <td>Supermarket Type3</td>\n",
       "      <td>test</td>\n",
       "      <td>NaN</td>\n",
       "      <td>FDC</td>\n",
       "      <td>FD</td>\n",
       "    </tr>\n",
       "    <tr>\n",
       "      <th>12</th>\n",
       "      <td>NCC54</td>\n",
       "      <td>NaN</td>\n",
       "      <td>Low Fat</td>\n",
       "      <td>0.171079</td>\n",
       "      <td>Health and Hygiene</td>\n",
       "      <td>240.4196</td>\n",
       "      <td>OUT019</td>\n",
       "      <td>1985</td>\n",
       "      <td>Small</td>\n",
       "      <td>Tier 1</td>\n",
       "      <td>Grocery Store</td>\n",
       "      <td>test</td>\n",
       "      <td>NaN</td>\n",
       "      <td>NCC</td>\n",
       "      <td>NC</td>\n",
       "    </tr>\n",
       "    <tr>\n",
       "      <th>18</th>\n",
       "      <td>NCM42</td>\n",
       "      <td>NaN</td>\n",
       "      <td>Low Fat</td>\n",
       "      <td>0.028184</td>\n",
       "      <td>Household</td>\n",
       "      <td>109.6912</td>\n",
       "      <td>OUT027</td>\n",
       "      <td>1985</td>\n",
       "      <td>Medium</td>\n",
       "      <td>Tier 3</td>\n",
       "      <td>Supermarket Type3</td>\n",
       "      <td>test</td>\n",
       "      <td>NaN</td>\n",
       "      <td>NCM</td>\n",
       "      <td>NC</td>\n",
       "    </tr>\n",
       "    <tr>\n",
       "      <th>23</th>\n",
       "      <td>NCL19</td>\n",
       "      <td>NaN</td>\n",
       "      <td>Low Fat</td>\n",
       "      <td>0.027447</td>\n",
       "      <td>Others</td>\n",
       "      <td>142.3470</td>\n",
       "      <td>OUT019</td>\n",
       "      <td>1985</td>\n",
       "      <td>Small</td>\n",
       "      <td>Tier 1</td>\n",
       "      <td>Grocery Store</td>\n",
       "      <td>test</td>\n",
       "      <td>NaN</td>\n",
       "      <td>NCL</td>\n",
       "      <td>NC</td>\n",
       "    </tr>\n",
       "    <tr>\n",
       "      <th>...</th>\n",
       "      <td>...</td>\n",
       "      <td>...</td>\n",
       "      <td>...</td>\n",
       "      <td>...</td>\n",
       "      <td>...</td>\n",
       "      <td>...</td>\n",
       "      <td>...</td>\n",
       "      <td>...</td>\n",
       "      <td>...</td>\n",
       "      <td>...</td>\n",
       "      <td>...</td>\n",
       "      <td>...</td>\n",
       "      <td>...</td>\n",
       "      <td>...</td>\n",
       "      <td>...</td>\n",
       "    </tr>\n",
       "    <tr>\n",
       "      <th>8485</th>\n",
       "      <td>DRK37</td>\n",
       "      <td>NaN</td>\n",
       "      <td>Low Fat</td>\n",
       "      <td>0.043792</td>\n",
       "      <td>Soft Drinks</td>\n",
       "      <td>189.0530</td>\n",
       "      <td>OUT027</td>\n",
       "      <td>1985</td>\n",
       "      <td>Medium</td>\n",
       "      <td>Tier 3</td>\n",
       "      <td>Supermarket Type3</td>\n",
       "      <td>train</td>\n",
       "      <td>6261.8490</td>\n",
       "      <td>DRK</td>\n",
       "      <td>DR</td>\n",
       "    </tr>\n",
       "    <tr>\n",
       "      <th>8487</th>\n",
       "      <td>DRG13</td>\n",
       "      <td>NaN</td>\n",
       "      <td>Low Fat</td>\n",
       "      <td>0.037006</td>\n",
       "      <td>Soft Drinks</td>\n",
       "      <td>164.7526</td>\n",
       "      <td>OUT027</td>\n",
       "      <td>1985</td>\n",
       "      <td>Medium</td>\n",
       "      <td>Tier 3</td>\n",
       "      <td>Supermarket Type3</td>\n",
       "      <td>train</td>\n",
       "      <td>4111.3150</td>\n",
       "      <td>DRG</td>\n",
       "      <td>DR</td>\n",
       "    </tr>\n",
       "    <tr>\n",
       "      <th>8488</th>\n",
       "      <td>NCN14</td>\n",
       "      <td>NaN</td>\n",
       "      <td>Low Fat</td>\n",
       "      <td>0.091473</td>\n",
       "      <td>Others</td>\n",
       "      <td>184.6608</td>\n",
       "      <td>OUT027</td>\n",
       "      <td>1985</td>\n",
       "      <td>Medium</td>\n",
       "      <td>Tier 3</td>\n",
       "      <td>Supermarket Type3</td>\n",
       "      <td>train</td>\n",
       "      <td>2756.4120</td>\n",
       "      <td>NCN</td>\n",
       "      <td>NC</td>\n",
       "    </tr>\n",
       "    <tr>\n",
       "      <th>8490</th>\n",
       "      <td>FDU44</td>\n",
       "      <td>NaN</td>\n",
       "      <td>Regular</td>\n",
       "      <td>0.102296</td>\n",
       "      <td>Fruits and Vegetables</td>\n",
       "      <td>162.3552</td>\n",
       "      <td>OUT019</td>\n",
       "      <td>1985</td>\n",
       "      <td>Small</td>\n",
       "      <td>Tier 1</td>\n",
       "      <td>Grocery Store</td>\n",
       "      <td>train</td>\n",
       "      <td>487.3656</td>\n",
       "      <td>FDU</td>\n",
       "      <td>FD</td>\n",
       "    </tr>\n",
       "    <tr>\n",
       "      <th>8504</th>\n",
       "      <td>NCN18</td>\n",
       "      <td>NaN</td>\n",
       "      <td>Low Fat</td>\n",
       "      <td>0.124111</td>\n",
       "      <td>Household</td>\n",
       "      <td>111.7544</td>\n",
       "      <td>OUT027</td>\n",
       "      <td>1985</td>\n",
       "      <td>Medium</td>\n",
       "      <td>Tier 3</td>\n",
       "      <td>Supermarket Type3</td>\n",
       "      <td>train</td>\n",
       "      <td>4138.6128</td>\n",
       "      <td>NCN</td>\n",
       "      <td>NC</td>\n",
       "    </tr>\n",
       "  </tbody>\n",
       "</table>\n",
       "<p>2439 rows × 15 columns</p>\n",
       "</div>"
      ],
      "text/plain": [
       "     Item_Identifier  Item_Weight Item_Fat_Content  Item_Visibility  \\\n",
       "4              FDY38          NaN          Regular         0.118599   \n",
       "7              FDC48          NaN          Low Fat         0.015782   \n",
       "12             NCC54          NaN          Low Fat         0.171079   \n",
       "18             NCM42          NaN          Low Fat         0.028184   \n",
       "23             NCL19          NaN          Low Fat         0.027447   \n",
       "...              ...          ...              ...              ...   \n",
       "8485           DRK37          NaN          Low Fat         0.043792   \n",
       "8487           DRG13          NaN          Low Fat         0.037006   \n",
       "8488           NCN14          NaN          Low Fat         0.091473   \n",
       "8490           FDU44          NaN          Regular         0.102296   \n",
       "8504           NCN18          NaN          Low Fat         0.124111   \n",
       "\n",
       "                  Item_Type  Item_MRP Outlet_Identifier  \\\n",
       "4                     Dairy  234.2300            OUT027   \n",
       "7              Baking Goods   81.0592            OUT027   \n",
       "12       Health and Hygiene  240.4196            OUT019   \n",
       "18                Household  109.6912            OUT027   \n",
       "23                   Others  142.3470            OUT019   \n",
       "...                     ...       ...               ...   \n",
       "8485            Soft Drinks  189.0530            OUT027   \n",
       "8487            Soft Drinks  164.7526            OUT027   \n",
       "8488                 Others  184.6608            OUT027   \n",
       "8490  Fruits and Vegetables  162.3552            OUT019   \n",
       "8504              Household  111.7544            OUT027   \n",
       "\n",
       "      Outlet_Establishment_Year Outlet_Size Outlet_Location_Type  \\\n",
       "4                          1985      Medium               Tier 3   \n",
       "7                          1985      Medium               Tier 3   \n",
       "12                         1985       Small               Tier 1   \n",
       "18                         1985      Medium               Tier 3   \n",
       "23                         1985       Small               Tier 1   \n",
       "...                         ...         ...                  ...   \n",
       "8485                       1985      Medium               Tier 3   \n",
       "8487                       1985      Medium               Tier 3   \n",
       "8488                       1985      Medium               Tier 3   \n",
       "8490                       1985       Small               Tier 1   \n",
       "8504                       1985      Medium               Tier 3   \n",
       "\n",
       "            Outlet_Type source  Item_Outlet_Sales Identifier Identifier_1  \n",
       "4     Supermarket Type3   test                NaN        FDY           FD  \n",
       "7     Supermarket Type3   test                NaN        FDC           FD  \n",
       "12        Grocery Store   test                NaN        NCC           NC  \n",
       "18    Supermarket Type3   test                NaN        NCM           NC  \n",
       "23        Grocery Store   test                NaN        NCL           NC  \n",
       "...                 ...    ...                ...        ...          ...  \n",
       "8485  Supermarket Type3  train          6261.8490        DRK           DR  \n",
       "8487  Supermarket Type3  train          4111.3150        DRG           DR  \n",
       "8488  Supermarket Type3  train          2756.4120        NCN           NC  \n",
       "8490      Grocery Store  train           487.3656        FDU           FD  \n",
       "8504  Supermarket Type3  train          4138.6128        NCN           NC  \n",
       "\n",
       "[2439 rows x 15 columns]"
      ]
     },
     "execution_count": 44,
     "metadata": {},
     "output_type": "execute_result"
    }
   ],
   "source": [
    "df1"
   ]
  },
  {
   "cell_type": "code",
   "execution_count": 45,
   "id": "b989a51e",
   "metadata": {},
   "outputs": [
    {
     "data": {
      "text/plain": [
       "True    2439\n",
       "Name: Item_Weight, dtype: int64"
      ]
     },
     "execution_count": 45,
     "metadata": {},
     "output_type": "execute_result"
    }
   ],
   "source": [
    "#we have found that data that are in 1985 are missing\n",
    "df1[\"Item_Weight\"].isna().value_counts()"
   ]
  },
  {
   "cell_type": "code",
   "execution_count": 46,
   "id": "62d26a66",
   "metadata": {
    "scrolled": true
   },
   "outputs": [
    {
     "data": {
      "text/plain": [
       "<AxesSubplot:xlabel='Item_Weight', ylabel='Count'>"
      ]
     },
     "execution_count": 46,
     "metadata": {},
     "output_type": "execute_result"
    },
    {
     "data": {
      "image/png": "[encoded data removed]",
      "text/plain": [
       "<Figure size 500x400 with 1 Axes>"
      ]
     },
     "metadata": {},
     "output_type": "display_data"
    }
   ],
   "source": [
    "#we can replace nan values by mean or mode\n",
    "#if we see outliers are present in item weight columns we can go with median method\n",
    "#if no outliers are present we can go with mean method to replace\n",
    "df =df.reset_index()\n",
    "\n",
    "\n",
    "plt.figure(figsize=(5,4))\n",
    "sns.histplot(data =df, x=df['Item_Weight'],kde =True)"
   ]
  },
  {
   "cell_type": "code",
   "execution_count": 47,
   "id": "c0184901",
   "metadata": {},
   "outputs": [
    {
     "data": {
      "text/plain": [
       "Item_Fat_Content  Outlet_Establishment_Year\n",
       "Low Fat           1985                               NaN\n",
       "                  1987                         12.905458\n",
       "                  1997                         12.928586\n",
       "                  1998                         12.780445\n",
       "                  1999                         12.921072\n",
       "                  2002                         12.913906\n",
       "                  2004                         12.938847\n",
       "                  2007                         12.899059\n",
       "                  2009                         12.914199\n",
       "Regular           1985                               NaN\n",
       "                  1987                         12.573588\n",
       "                  1997                         12.601346\n",
       "                  1998                         12.619061\n",
       "                  1999                         12.586508\n",
       "                  2002                         12.583336\n",
       "                  2004                         12.558759\n",
       "                  2007                         12.567261\n",
       "                  2009                         12.601718\n",
       "Name: Item_Weight, dtype: float64"
      ]
     },
     "execution_count": 47,
     "metadata": {},
     "output_type": "execute_result"
    }
   ],
   "source": [
    "#we can make some groupby method to calculate the item weight respect to other columns\n",
    "\n",
    "data = df.groupby(['Item_Fat_Content','Outlet_Establishment_Year'])['Item_Weight'].mean()\n",
    "data"
   ]
  },
  {
   "cell_type": "code",
   "execution_count": 48,
   "id": "2aa13c67",
   "metadata": {},
   "outputs": [
    {
     "data": {
      "text/plain": [
       "<AxesSubplot:xlabel='Outlet_Establishment_Year', ylabel='Item_Weight'>"
      ]
     },
     "execution_count": 48,
     "metadata": {},
     "output_type": "execute_result"
    },
    {
     "data": {
      "image/png": "[encoded data removed]",
      "text/plain": [
       "<Figure size 500x300 with 1 Axes>"
      ]
     },
     "metadata": {},
     "output_type": "display_data"
    }
   ],
   "source": [
    "plt.figure(figsize=(5,3))\n",
    "sns.boxplot(x=df['Outlet_Establishment_Year'],y =df['Item_Weight'])"
   ]
  },
  {
   "cell_type": "markdown",
   "id": "b3d2ab8f",
   "metadata": {},
   "source": [
    "# From this boxplot we can see the inferneces that:\n",
    "# 1.Missing value in year 1985\n",
    "# 2.Every year the mean of Item_Weight is nearby12 to 12.5"
   ]
  },
  {
   "cell_type": "code",
   "execution_count": 49,
   "id": "49a5241a",
   "metadata": {
    "scrolled": true
   },
   "outputs": [
    {
     "data": {
      "text/plain": [
       "Item_Fat_Content  Item_Type            \n",
       "Low Fat           Baking Goods             12.581009\n",
       "                  Breads                   12.067005\n",
       "                  Breakfast                12.279537\n",
       "                  Canned                   11.928623\n",
       "                  Dairy                    13.379983\n",
       "                  Frozen Foods             12.231772\n",
       "                  Fruits and Vegetables    12.718596\n",
       "                  Hard Drinks              11.576205\n",
       "                  Health and Hygiene       13.171739\n",
       "                  Household                13.337977\n",
       "                  Meat                     13.470386\n",
       "                  Others                   13.915724\n",
       "                  Seafood                  13.178864\n",
       "                  Snack Foods              13.737556\n",
       "                  Soft Drinks              11.883135\n",
       "                  Starchy Foods            13.712873\n",
       "Regular           Baking Goods             11.974802\n",
       "                  Breads                   10.118416\n",
       "                  Breakfast                13.674796\n",
       "                  Canned                   12.762320\n",
       "                  Dairy                    13.018821\n",
       "                  Frozen Foods             12.926384\n",
       "                  Fruits and Vegetables    13.754073\n",
       "                  Meat                     12.327340\n",
       "                  Seafood                  12.125172\n",
       "                  Snack Foods              11.702069\n",
       "                  Soft Drinks              11.255440\n",
       "                  Starchy Foods            13.583226\n",
       "Name: Item_Weight, dtype: float64"
      ]
     },
     "execution_count": 49,
     "metadata": {},
     "output_type": "execute_result"
    }
   ],
   "source": [
    "df.groupby(['Item_Fat_Content','Item_Type'])['Item_Weight'].mean()\n"
   ]
  },
  {
   "cell_type": "code",
   "execution_count": 50,
   "id": "70bf89a7",
   "metadata": {
    "scrolled": true
   },
   "outputs": [
    {
     "data": {
      "text/plain": [
       "count    11765.000000\n",
       "mean        12.792854\n",
       "std          4.652502\n",
       "min          4.555000\n",
       "25%          8.710000\n",
       "50%         12.600000\n",
       "75%         16.750000\n",
       "max         21.350000\n",
       "Name: Item_Weight, dtype: float64"
      ]
     },
     "execution_count": 50,
     "metadata": {},
     "output_type": "execute_result"
    }
   ],
   "source": [
    "df['Item_Weight'].describe()"
   ]
  },
  {
   "cell_type": "code",
   "execution_count": 51,
   "id": "240cf0dc",
   "metadata": {},
   "outputs": [],
   "source": [
    "#we can impute the overall mean becuase the mean of all columns are same \n",
    "df['Item_Weight'] = df.groupby('Item_Type').Item_Weight.transform(lambda x: x.fillna(x.mean()))\n"
   ]
  },
  {
   "cell_type": "code",
   "execution_count": 52,
   "id": "e1ea6f25",
   "metadata": {
    "scrolled": true
   },
   "outputs": [
    {
     "data": {
      "text/plain": [
       "<AxesSubplot:xlabel='Item_Weight', ylabel='Count'>"
      ]
     },
     "execution_count": 52,
     "metadata": {},
     "output_type": "execute_result"
    },
    {
     "data": {
      "image/png": "[encoded data removed]",
      "text/plain": [
       "<Figure size 500x400 with 1 Axes>"
      ]
     },
     "metadata": {},
     "output_type": "display_data"
    }
   ],
   "source": [
    "plt.figure(figsize=(5,4))\n",
    "sns.histplot(data =df, x=df['Item_Weight'],kde =True)"
   ]
  },
  {
   "cell_type": "code",
   "execution_count": 53,
   "id": "00d11625",
   "metadata": {},
   "outputs": [
    {
     "data": {
      "text/plain": [
       "<AxesSubplot:xlabel='Item_Weight', ylabel='Item_Outlet_Sales'>"
      ]
     },
     "execution_count": 53,
     "metadata": {},
     "output_type": "execute_result"
    },
    {
     "data": {
      "image/png": "[encoded data removed]",
      "text/plain": [
       "<Figure size 640x480 with 1 Axes>"
      ]
     },
     "metadata": {},
     "output_type": "display_data"
    }
   ],
   "source": [
    "sns.scatterplot(x= df['Item_Weight'],y=df['Item_Outlet_Sales'])"
   ]
  },
  {
   "cell_type": "code",
   "execution_count": 54,
   "id": "fcea8a34",
   "metadata": {},
   "outputs": [
    {
     "data": {
      "text/plain": [
       "Item_Weight        0\n",
       "Item_Visibility    0\n",
       "Item_MRP           0\n",
       "dtype: int64"
      ]
     },
     "execution_count": 54,
     "metadata": {},
     "output_type": "execute_result"
    }
   ],
   "source": [
    "df[numerical].isna().sum()"
   ]
  },
  {
   "cell_type": "markdown",
   "id": "fa65401b",
   "metadata": {},
   "source": [
    "# Detection of Outliers in Numerical columns"
   ]
  },
  {
   "cell_type": "code",
   "execution_count": 55,
   "id": "ba4d8764",
   "metadata": {},
   "outputs": [
    {
     "name": "stdout",
     "output_type": "stream",
     "text": [
      "Index(['Item_Weight', 'Item_Visibility', 'Item_MRP'], dtype='object')\n"
     ]
    }
   ],
   "source": [
    "print(numerical)"
   ]
  },
  {
   "cell_type": "code",
   "execution_count": 56,
   "id": "23b20d6c",
   "metadata": {},
   "outputs": [
    {
     "name": "stdout",
     "output_type": "stream",
     "text": [
      "Index(['Item_Identifier', 'Item_Fat_Content', 'Item_Type', 'Outlet_Identifier',\n",
      "       'Outlet_Size', 'Outlet_Location_Type', 'Outlet_Type', 'source'],\n",
      "      dtype='object')\n"
     ]
    }
   ],
   "source": [
    "print(categorical)"
   ]
  },
  {
   "cell_type": "code",
   "execution_count": 57,
   "id": "1e388deb",
   "metadata": {},
   "outputs": [
    {
     "name": "stdout",
     "output_type": "stream",
     "text": [
      "Item_Weight\n",
      "The Q1  0.25quantile value is  9.3\n",
      "The Q1  0.50quantile value is  12.8\n",
      "The Q1  0.75quantile value is  16.0\n",
      "iqr value is 6.699999999999999\n",
      "Low Whisker -0.7499999999999982\n",
      "High Whishker 26.049999999999997\n",
      "------------------------------------------------------------\n",
      "Item_Visibility\n",
      "The Q1  0.25quantile value is  0.027035682499999998\n",
      "The Q1  0.50quantile value is  0.054020536499999994\n",
      "The Q1  0.75quantile value is  0.0940372535\n",
      "iqr value is 0.06700157100000001\n",
      "Low Whisker -0.07346667400000001\n",
      "High Whishker 0.19453961000000003\n",
      "------------------------------------------------------------\n",
      "Item_MRP\n",
      "The Q1  0.25quantile value is  94.012\n",
      "The Q1  0.50quantile value is  142.247\n",
      "The Q1  0.75quantile value is  185.8556\n",
      "iqr value is 91.84360000000001\n",
      "Low Whisker -43.7534\n",
      "High Whishker 323.621\n",
      "------------------------------------------------------------\n"
     ]
    }
   ],
   "source": [
    "#we can use boxplot to identify outlier and by wiriting code to get ouliers by low and upper whisker range\n",
    "for num_data in numerical:\n",
    "    print(num_data)        \n",
    "    q1 = df[num_data].quantile(0.25)\n",
    "    q2 = df[num_data].quantile(0.50)\n",
    "    q3 = df[num_data].quantile(0.75)\n",
    "    iqr = q3-q1\n",
    "    low = q1-1.5*iqr\n",
    "    high = q3+1.5*iqr\n",
    "    print('The Q1  0.25quantile value is ',q1)\n",
    "    print('The Q1  0.50quantile value is ',q2)\n",
    "    print('The Q1  0.75quantile value is ',q3)\n",
    "    print(\"iqr value is\",iqr)\n",
    "    print(\"Low Whisker\",low)\n",
    "    print(\"High Whishker\",high)\n",
    "    print('--'*30)\n",
    "    "
   ]
  },
  {
   "cell_type": "code",
   "execution_count": 58,
   "id": "08b1b91e",
   "metadata": {},
   "outputs": [
    {
     "data": {
      "text/html": [
       "<div>\n",
       "<style scoped>\n",
       "    .dataframe tbody tr th:only-of-type {\n",
       "        vertical-align: middle;\n",
       "    }\n",
       "\n",
       "    .dataframe tbody tr th {\n",
       "        vertical-align: top;\n",
       "    }\n",
       "\n",
       "    .dataframe thead th {\n",
       "        text-align: right;\n",
       "    }\n",
       "</style>\n",
       "<table border=\"1\" class=\"dataframe\">\n",
       "  <thead>\n",
       "    <tr style=\"text-align: right;\">\n",
       "      <th></th>\n",
       "      <th></th>\n",
       "      <th></th>\n",
       "      <th></th>\n",
       "      <th></th>\n",
       "      <th></th>\n",
       "      <th></th>\n",
       "      <th></th>\n",
       "      <th></th>\n",
       "      <th></th>\n",
       "      <th></th>\n",
       "      <th></th>\n",
       "      <th></th>\n",
       "      <th></th>\n",
       "      <th></th>\n",
       "      <th></th>\n",
       "      <th>0</th>\n",
       "    </tr>\n",
       "    <tr>\n",
       "      <th>index</th>\n",
       "      <th>Item_Identifier</th>\n",
       "      <th>Item_Weight</th>\n",
       "      <th>Item_Fat_Content</th>\n",
       "      <th>Item_Visibility</th>\n",
       "      <th>Item_Type</th>\n",
       "      <th>Item_MRP</th>\n",
       "      <th>Outlet_Identifier</th>\n",
       "      <th>Outlet_Establishment_Year</th>\n",
       "      <th>Outlet_Size</th>\n",
       "      <th>Outlet_Location_Type</th>\n",
       "      <th>Outlet_Type</th>\n",
       "      <th>source</th>\n",
       "      <th>Item_Outlet_Sales</th>\n",
       "      <th>Identifier</th>\n",
       "      <th>Identifier_1</th>\n",
       "      <th></th>\n",
       "    </tr>\n",
       "  </thead>\n",
       "  <tbody>\n",
       "  </tbody>\n",
       "</table>\n",
       "</div>"
      ],
      "text/plain": [
       "Empty DataFrame\n",
       "Columns: [0]\n",
       "Index: []"
      ]
     },
     "execution_count": 58,
     "metadata": {},
     "output_type": "execute_result"
    }
   ],
   "source": [
    "outlier = df[(df['Item_Weight'] < -0.7499999999999982 ) | (df['Item_Weight']  > 26.049999999999997 ) ].value_counts()\n",
    "pd.DataFrame(outlier)"
   ]
  },
  {
   "cell_type": "code",
   "execution_count": 59,
   "id": "35c4eae6",
   "metadata": {
    "scrolled": true
   },
   "outputs": [
    {
     "data": {
      "text/plain": [
       "261"
      ]
     },
     "execution_count": 59,
     "metadata": {},
     "output_type": "execute_result"
    }
   ],
   "source": [
    "outlier_1 = df[(df['Item_Visibility'] < -0.07346667400000001 ) | (df['Item_Visibility']  > 0.19453961000000003 ) ]\n",
    "outlier_1['Item_Visibility'].count()\n"
   ]
  },
  {
   "cell_type": "code",
   "execution_count": 60,
   "id": "464ca953",
   "metadata": {},
   "outputs": [
    {
     "data": {
      "text/plain": [
       "0"
      ]
     },
     "execution_count": 60,
     "metadata": {},
     "output_type": "execute_result"
    }
   ],
   "source": [
    "outlier_2 = df[(df['Item_MRP'] < -43.7534 ) | (df['Item_MRP']  > 323.621 ) ]\n",
    "outlier_2['Item_MRP'].count()\n"
   ]
  },
  {
   "cell_type": "code",
   "execution_count": 79,
   "id": "5bc4de6f",
   "metadata": {},
   "outputs": [
    {
     "data": {
      "text/plain": [
       "<AxesSubplot:xlabel='Item_Visibility'>"
      ]
     },
     "execution_count": 79,
     "metadata": {},
     "output_type": "execute_result"
    },
    {
     "data": {
      "image/png": "[encoded data removed]",
      "text/plain": [
       "<Figure size 500x300 with 1 Axes>"
      ]
     },
     "metadata": {},
     "output_type": "display_data"
    }
   ],
   "source": [
    "#we can boxplot method to visulaize the outliers\n",
    "plt.figure(figsize= (5,3))\n",
    "sns.boxplot(data= df,x=df['Item_Visibility'])"
   ]
  },
  {
   "cell_type": "code",
   "execution_count": 80,
   "id": "30fbff80",
   "metadata": {},
   "outputs": [],
   "source": [
    "#we can see there are outliers in \"Item_Visibilty column\"\n",
    "#hence we can impute outliers with the help of IQR values\n",
    "#we can use Lower whisker and Higher whisker value\n",
    "\n",
    "df['Item_Visibility']= df['Item_Visibility'].apply(lambda x: 0.1945 if x > 0.1945 else (-0.0734 if x < -0.0734 else x))"
   ]
  },
  {
   "cell_type": "code",
   "execution_count": 82,
   "id": "a3ac54cc",
   "metadata": {},
   "outputs": [
    {
     "data": {
      "text/plain": [
       "<AxesSubplot:xlabel='Item_Visibility'>"
      ]
     },
     "execution_count": 82,
     "metadata": {},
     "output_type": "execute_result"
    },
    {
     "data": {
      "image/png": "[encoded data removed]",
      "text/plain": [
       "<Figure size 500x300 with 1 Axes>"
      ]
     },
     "metadata": {},
     "output_type": "display_data"
    }
   ],
   "source": [
    "plt.figure(figsize=(5,3))\n",
    "sns.boxplot(data= df, x =df['Item_Visibility'])"
   ]
  },
  {
   "cell_type": "markdown",
   "id": "3f969e1e",
   "metadata": {},
   "source": [
    "# we have cleaned the dataset with missing values,we can check now corrleation of train set"
   ]
  },
  {
   "cell_type": "code",
   "execution_count": 93,
   "id": "3cd36039",
   "metadata": {
    "scrolled": true
   },
   "outputs": [
    {
     "data": {
      "text/html": [
       "<div>\n",
       "<style scoped>\n",
       "    .dataframe tbody tr th:only-of-type {\n",
       "        vertical-align: middle;\n",
       "    }\n",
       "\n",
       "    .dataframe tbody tr th {\n",
       "        vertical-align: top;\n",
       "    }\n",
       "\n",
       "    .dataframe thead th {\n",
       "        text-align: right;\n",
       "    }\n",
       "</style>\n",
       "<table border=\"1\" class=\"dataframe\">\n",
       "  <thead>\n",
       "    <tr style=\"text-align: right;\">\n",
       "      <th></th>\n",
       "      <th>index</th>\n",
       "      <th>Item_Identifier</th>\n",
       "      <th>Item_Weight</th>\n",
       "      <th>Item_Fat_Content</th>\n",
       "      <th>Item_Visibility</th>\n",
       "      <th>Item_Type</th>\n",
       "      <th>Item_MRP</th>\n",
       "      <th>Outlet_Identifier</th>\n",
       "      <th>Outlet_Establishment_Year</th>\n",
       "      <th>Outlet_Size</th>\n",
       "      <th>Outlet_Location_Type</th>\n",
       "      <th>Outlet_Type</th>\n",
       "      <th>source</th>\n",
       "      <th>Item_Outlet_Sales</th>\n",
       "      <th>Identifier</th>\n",
       "      <th>Identifier_1</th>\n",
       "    </tr>\n",
       "  </thead>\n",
       "  <tbody>\n",
       "    <tr>\n",
       "      <th>0</th>\n",
       "      <td>0</td>\n",
       "      <td>FDW58</td>\n",
       "      <td>20.750000</td>\n",
       "      <td>Low Fat</td>\n",
       "      <td>0.007565</td>\n",
       "      <td>Snack Foods</td>\n",
       "      <td>107.8622</td>\n",
       "      <td>OUT049</td>\n",
       "      <td>1999</td>\n",
       "      <td>Medium</td>\n",
       "      <td>Tier 1</td>\n",
       "      <td>Supermarket Type1</td>\n",
       "      <td>test</td>\n",
       "      <td>NaN</td>\n",
       "      <td>FDW</td>\n",
       "      <td>FD</td>\n",
       "    </tr>\n",
       "    <tr>\n",
       "      <th>1</th>\n",
       "      <td>1</td>\n",
       "      <td>FDW14</td>\n",
       "      <td>8.300000</td>\n",
       "      <td>Regular</td>\n",
       "      <td>0.038428</td>\n",
       "      <td>Dairy</td>\n",
       "      <td>87.3198</td>\n",
       "      <td>OUT017</td>\n",
       "      <td>2007</td>\n",
       "      <td>Small</td>\n",
       "      <td>Tier 2</td>\n",
       "      <td>Supermarket Type1</td>\n",
       "      <td>test</td>\n",
       "      <td>NaN</td>\n",
       "      <td>FDW</td>\n",
       "      <td>FD</td>\n",
       "    </tr>\n",
       "    <tr>\n",
       "      <th>2</th>\n",
       "      <td>2</td>\n",
       "      <td>NCN55</td>\n",
       "      <td>14.600000</td>\n",
       "      <td>Low Fat</td>\n",
       "      <td>0.099575</td>\n",
       "      <td>Others</td>\n",
       "      <td>241.7538</td>\n",
       "      <td>OUT010</td>\n",
       "      <td>1998</td>\n",
       "      <td>Small</td>\n",
       "      <td>Tier 3</td>\n",
       "      <td>Grocery Store</td>\n",
       "      <td>test</td>\n",
       "      <td>NaN</td>\n",
       "      <td>NCN</td>\n",
       "      <td>NC</td>\n",
       "    </tr>\n",
       "    <tr>\n",
       "      <th>3</th>\n",
       "      <td>3</td>\n",
       "      <td>FDQ58</td>\n",
       "      <td>7.315000</td>\n",
       "      <td>Low Fat</td>\n",
       "      <td>0.015388</td>\n",
       "      <td>Snack Foods</td>\n",
       "      <td>155.0340</td>\n",
       "      <td>OUT017</td>\n",
       "      <td>2007</td>\n",
       "      <td>Small</td>\n",
       "      <td>Tier 2</td>\n",
       "      <td>Supermarket Type1</td>\n",
       "      <td>test</td>\n",
       "      <td>NaN</td>\n",
       "      <td>FDQ</td>\n",
       "      <td>FD</td>\n",
       "    </tr>\n",
       "    <tr>\n",
       "      <th>4</th>\n",
       "      <td>4</td>\n",
       "      <td>FDY38</td>\n",
       "      <td>13.238358</td>\n",
       "      <td>Regular</td>\n",
       "      <td>0.118599</td>\n",
       "      <td>Dairy</td>\n",
       "      <td>234.2300</td>\n",
       "      <td>OUT027</td>\n",
       "      <td>1985</td>\n",
       "      <td>Medium</td>\n",
       "      <td>Tier 3</td>\n",
       "      <td>Supermarket Type3</td>\n",
       "      <td>test</td>\n",
       "      <td>NaN</td>\n",
       "      <td>FDY</td>\n",
       "      <td>FD</td>\n",
       "    </tr>\n",
       "    <tr>\n",
       "      <th>...</th>\n",
       "      <td>...</td>\n",
       "      <td>...</td>\n",
       "      <td>...</td>\n",
       "      <td>...</td>\n",
       "      <td>...</td>\n",
       "      <td>...</td>\n",
       "      <td>...</td>\n",
       "      <td>...</td>\n",
       "      <td>...</td>\n",
       "      <td>...</td>\n",
       "      <td>...</td>\n",
       "      <td>...</td>\n",
       "      <td>...</td>\n",
       "      <td>...</td>\n",
       "      <td>...</td>\n",
       "      <td>...</td>\n",
       "    </tr>\n",
       "    <tr>\n",
       "      <th>14199</th>\n",
       "      <td>8518</td>\n",
       "      <td>FDF22</td>\n",
       "      <td>6.865000</td>\n",
       "      <td>Low Fat</td>\n",
       "      <td>0.056783</td>\n",
       "      <td>Snack Foods</td>\n",
       "      <td>214.5218</td>\n",
       "      <td>OUT013</td>\n",
       "      <td>1987</td>\n",
       "      <td>High</td>\n",
       "      <td>Tier 3</td>\n",
       "      <td>Supermarket Type1</td>\n",
       "      <td>train</td>\n",
       "      <td>2778.3834</td>\n",
       "      <td>FDF</td>\n",
       "      <td>FD</td>\n",
       "    </tr>\n",
       "    <tr>\n",
       "      <th>14200</th>\n",
       "      <td>8519</td>\n",
       "      <td>FDS36</td>\n",
       "      <td>8.380000</td>\n",
       "      <td>Regular</td>\n",
       "      <td>0.046982</td>\n",
       "      <td>Baking Goods</td>\n",
       "      <td>108.1570</td>\n",
       "      <td>OUT045</td>\n",
       "      <td>2002</td>\n",
       "      <td>Small</td>\n",
       "      <td>Tier 2</td>\n",
       "      <td>Supermarket Type1</td>\n",
       "      <td>train</td>\n",
       "      <td>549.2850</td>\n",
       "      <td>FDS</td>\n",
       "      <td>FD</td>\n",
       "    </tr>\n",
       "    <tr>\n",
       "      <th>14201</th>\n",
       "      <td>8520</td>\n",
       "      <td>NCJ29</td>\n",
       "      <td>10.600000</td>\n",
       "      <td>Low Fat</td>\n",
       "      <td>0.035186</td>\n",
       "      <td>Health and Hygiene</td>\n",
       "      <td>85.1224</td>\n",
       "      <td>OUT035</td>\n",
       "      <td>2004</td>\n",
       "      <td>Small</td>\n",
       "      <td>Tier 2</td>\n",
       "      <td>Supermarket Type1</td>\n",
       "      <td>train</td>\n",
       "      <td>1193.1136</td>\n",
       "      <td>NCJ</td>\n",
       "      <td>NC</td>\n",
       "    </tr>\n",
       "    <tr>\n",
       "      <th>14202</th>\n",
       "      <td>8521</td>\n",
       "      <td>FDN46</td>\n",
       "      <td>7.210000</td>\n",
       "      <td>Regular</td>\n",
       "      <td>0.145221</td>\n",
       "      <td>Snack Foods</td>\n",
       "      <td>103.1332</td>\n",
       "      <td>OUT018</td>\n",
       "      <td>2009</td>\n",
       "      <td>Medium</td>\n",
       "      <td>Tier 3</td>\n",
       "      <td>Supermarket Type2</td>\n",
       "      <td>train</td>\n",
       "      <td>1845.5976</td>\n",
       "      <td>FDN</td>\n",
       "      <td>FD</td>\n",
       "    </tr>\n",
       "    <tr>\n",
       "      <th>14203</th>\n",
       "      <td>8522</td>\n",
       "      <td>DRG01</td>\n",
       "      <td>14.800000</td>\n",
       "      <td>Low Fat</td>\n",
       "      <td>0.044878</td>\n",
       "      <td>Soft Drinks</td>\n",
       "      <td>75.4670</td>\n",
       "      <td>OUT046</td>\n",
       "      <td>1997</td>\n",
       "      <td>Small</td>\n",
       "      <td>Tier 1</td>\n",
       "      <td>Supermarket Type1</td>\n",
       "      <td>train</td>\n",
       "      <td>765.6700</td>\n",
       "      <td>DRG</td>\n",
       "      <td>DR</td>\n",
       "    </tr>\n",
       "  </tbody>\n",
       "</table>\n",
       "<p>14204 rows × 16 columns</p>\n",
       "</div>"
      ],
      "text/plain": [
       "       index Item_Identifier  Item_Weight Item_Fat_Content  Item_Visibility  \\\n",
       "0          0           FDW58    20.750000          Low Fat         0.007565   \n",
       "1          1           FDW14     8.300000          Regular         0.038428   \n",
       "2          2           NCN55    14.600000          Low Fat         0.099575   \n",
       "3          3           FDQ58     7.315000          Low Fat         0.015388   \n",
       "4          4           FDY38    13.238358          Regular         0.118599   \n",
       "...      ...             ...          ...              ...              ...   \n",
       "14199   8518           FDF22     6.865000          Low Fat         0.056783   \n",
       "14200   8519           FDS36     8.380000          Regular         0.046982   \n",
       "14201   8520           NCJ29    10.600000          Low Fat         0.035186   \n",
       "14202   8521           FDN46     7.210000          Regular         0.145221   \n",
       "14203   8522           DRG01    14.800000          Low Fat         0.044878   \n",
       "\n",
       "                Item_Type  Item_MRP Outlet_Identifier  \\\n",
       "0             Snack Foods  107.8622            OUT049   \n",
       "1                   Dairy   87.3198            OUT017   \n",
       "2                  Others  241.7538            OUT010   \n",
       "3             Snack Foods  155.0340            OUT017   \n",
       "4                   Dairy  234.2300            OUT027   \n",
       "...                   ...       ...               ...   \n",
       "14199         Snack Foods  214.5218            OUT013   \n",
       "14200        Baking Goods  108.1570            OUT045   \n",
       "14201  Health and Hygiene   85.1224            OUT035   \n",
       "14202         Snack Foods  103.1332            OUT018   \n",
       "14203         Soft Drinks   75.4670            OUT046   \n",
       "\n",
       "       Outlet_Establishment_Year Outlet_Size Outlet_Location_Type  \\\n",
       "0                           1999      Medium               Tier 1   \n",
       "1                           2007       Small               Tier 2   \n",
       "2                           1998       Small               Tier 3   \n",
       "3                           2007       Small               Tier 2   \n",
       "4                           1985      Medium               Tier 3   \n",
       "...                          ...         ...                  ...   \n",
       "14199                       1987        High               Tier 3   \n",
       "14200                       2002       Small               Tier 2   \n",
       "14201                       2004       Small               Tier 2   \n",
       "14202                       2009      Medium               Tier 3   \n",
       "14203                       1997       Small               Tier 1   \n",
       "\n",
       "             Outlet_Type source  Item_Outlet_Sales Identifier Identifier_1  \n",
       "0      Supermarket Type1   test                NaN        FDW           FD  \n",
       "1      Supermarket Type1   test                NaN        FDW           FD  \n",
       "2          Grocery Store   test                NaN        NCN           NC  \n",
       "3      Supermarket Type1   test                NaN        FDQ           FD  \n",
       "4      Supermarket Type3   test                NaN        FDY           FD  \n",
       "...                  ...    ...                ...        ...          ...  \n",
       "14199  Supermarket Type1  train          2778.3834        FDF           FD  \n",
       "14200  Supermarket Type1  train           549.2850        FDS           FD  \n",
       "14201  Supermarket Type1  train          1193.1136        NCJ           NC  \n",
       "14202  Supermarket Type2  train          1845.5976        FDN           FD  \n",
       "14203  Supermarket Type1  train           765.6700        DRG           DR  \n",
       "\n",
       "[14204 rows x 16 columns]"
      ]
     },
     "execution_count": 93,
     "metadata": {},
     "output_type": "execute_result"
    }
   ],
   "source": [
    "train = df.loc[df['source']=='train']\n",
    "test = df.loc[df['source'] == 'test']\n",
    "df.sort_index()"
   ]
  },
  {
   "cell_type": "code",
   "execution_count": 96,
   "id": "622c721a",
   "metadata": {},
   "outputs": [
    {
     "data": {
      "text/plain": [
       "<AxesSubplot:>"
      ]
     },
     "execution_count": 96,
     "metadata": {},
     "output_type": "execute_result"
    },
    {
     "data": {
      "image/png": "[encoded data removed]",
      "text/plain": [
       "<Figure size 640x480 with 2 Axes>"
      ]
     },
     "metadata": {},
     "output_type": "display_data"
    }
   ],
   "source": [
    "corr_ = train.corr()\n",
    "sns.heatmap(corr_,annot = True)"
   ]
  },
  {
   "cell_type": "code",
   "execution_count": 140,
   "id": "728edaf7",
   "metadata": {},
   "outputs": [],
   "source": [
    "#as of our inference still there was not much corrleation,we can make to get best fit line as trial and error method"
   ]
  },
  {
   "cell_type": "code",
   "execution_count": 97,
   "id": "f9c3b9d0",
   "metadata": {},
   "outputs": [],
   "source": [
    "#we can only keep on dependent variable alone for test and trian dataset\n",
    "df.drop(columns = ['Outlet_Establishment_Year','Identifier','Item_Identifier'],inplace = True)"
   ]
  },
  {
   "cell_type": "code",
   "execution_count": 98,
   "id": "5c9872c4",
   "metadata": {},
   "outputs": [],
   "source": [
    "train = df.loc[df['source']=='train']\n",
    "test = df.loc[df['source'] == 'test']"
   ]
  },
  {
   "cell_type": "code",
   "execution_count": 99,
   "id": "ace60305",
   "metadata": {
    "collapsed": true
   },
   "outputs": [
    {
     "name": "stderr",
     "output_type": "stream",
     "text": [
      "C:\\Users\\sankar\\AppData\\Local\\Temp\\ipykernel_10740\\233847947.py:2: SettingWithCopyWarning: \n",
      "A value is trying to be set on a copy of a slice from a DataFrame\n",
      "\n",
      "See the caveats in the documentation: https://pandas.pydata.org/pandas-docs/stable/user_guide/indexing.html#returning-a-view-versus-a-copy\n",
      "  train.drop(columns = 'source',inplace = True)\n",
      "C:\\Users\\sankar\\AppData\\Local\\Temp\\ipykernel_10740\\233847947.py:3: SettingWithCopyWarning: \n",
      "A value is trying to be set on a copy of a slice from a DataFrame\n",
      "\n",
      "See the caveats in the documentation: https://pandas.pydata.org/pandas-docs/stable/user_guide/indexing.html#returning-a-view-versus-a-copy\n",
      "  test.drop(columns = 'source',inplace = True)\n"
     ]
    }
   ],
   "source": [
    "#we can remove source columns also\n",
    "train.drop(columns = 'source',inplace = True)\n",
    "test.drop(columns = 'source',inplace = True)\n",
    "     "
   ]
  },
  {
   "cell_type": "code",
   "execution_count": 100,
   "id": "61ca6f5b",
   "metadata": {},
   "outputs": [],
   "source": [
    "#we can now check the variation inflation factor of numerical columns\n",
    "#import libraby for it\n",
    "from statsmodels.stats.outliers_influence import variance_inflation_factor"
   ]
  },
  {
   "cell_type": "code",
   "execution_count": 101,
   "id": "b2628ea5",
   "metadata": {},
   "outputs": [],
   "source": [
    "X = train.select_dtypes(include = np.number).drop(columns = 'Item_Outlet_Sales')\n",
    "vif_df = pd.DataFrame()\n",
    "vif_df['features'] = X.columns\n",
    "\n",
    "vif_df['VIF'] = [variance_inflation_factor(X.values,i) for i in range(len(X.columns))]"
   ]
  },
  {
   "cell_type": "code",
   "execution_count": 102,
   "id": "8239a6a6",
   "metadata": {},
   "outputs": [
    {
     "data": {
      "text/html": [
       "<div>\n",
       "<style scoped>\n",
       "    .dataframe tbody tr th:only-of-type {\n",
       "        vertical-align: middle;\n",
       "    }\n",
       "\n",
       "    .dataframe tbody tr th {\n",
       "        vertical-align: top;\n",
       "    }\n",
       "\n",
       "    .dataframe thead th {\n",
       "        text-align: right;\n",
       "    }\n",
       "</style>\n",
       "<table border=\"1\" class=\"dataframe\">\n",
       "  <thead>\n",
       "    <tr style=\"text-align: right;\">\n",
       "      <th></th>\n",
       "      <th>features</th>\n",
       "      <th>VIF</th>\n",
       "    </tr>\n",
       "  </thead>\n",
       "  <tbody>\n",
       "    <tr>\n",
       "      <th>1</th>\n",
       "      <td>Item_Weight</td>\n",
       "      <td>5.545739</td>\n",
       "    </tr>\n",
       "    <tr>\n",
       "      <th>2</th>\n",
       "      <td>Item_Visibility</td>\n",
       "      <td>2.527355</td>\n",
       "    </tr>\n",
       "    <tr>\n",
       "      <th>3</th>\n",
       "      <td>Item_MRP</td>\n",
       "      <td>4.680171</td>\n",
       "    </tr>\n",
       "  </tbody>\n",
       "</table>\n",
       "</div>"
      ],
      "text/plain": [
       "          features       VIF\n",
       "1      Item_Weight  5.545739\n",
       "2  Item_Visibility  2.527355\n",
       "3         Item_MRP  4.680171"
      ]
     },
     "execution_count": 102,
     "metadata": {},
     "output_type": "execute_result"
    }
   ],
   "source": [
    "vif_df[1:]"
   ]
  },
  {
   "cell_type": "code",
   "execution_count": 103,
   "id": "7b584def",
   "metadata": {},
   "outputs": [],
   "source": [
    "#creating test train split\n",
    "from sklearn.model_selection import train_test_split\n"
   ]
  },
  {
   "cell_type": "code",
   "execution_count": 107,
   "id": "62a7a894",
   "metadata": {},
   "outputs": [],
   "source": [
    "X_train, X_test, y_train, y_test  = train_test_split(X,train['Item_Outlet_Sales'], test_size = 0.25, shuffle = True)\n"
   ]
  },
  {
   "cell_type": "code",
   "execution_count": 108,
   "id": "c0c14fca",
   "metadata": {},
   "outputs": [
    {
     "data": {
      "text/html": [
       "<div>\n",
       "<style scoped>\n",
       "    .dataframe tbody tr th:only-of-type {\n",
       "        vertical-align: middle;\n",
       "    }\n",
       "\n",
       "    .dataframe tbody tr th {\n",
       "        vertical-align: top;\n",
       "    }\n",
       "\n",
       "    .dataframe thead th {\n",
       "        text-align: right;\n",
       "    }\n",
       "</style>\n",
       "<table border=\"1\" class=\"dataframe\">\n",
       "  <thead>\n",
       "    <tr style=\"text-align: right;\">\n",
       "      <th></th>\n",
       "      <th>index</th>\n",
       "      <th>Item_Weight</th>\n",
       "      <th>Item_Visibility</th>\n",
       "      <th>Item_MRP</th>\n",
       "    </tr>\n",
       "  </thead>\n",
       "  <tbody>\n",
       "    <tr>\n",
       "      <th>10535</th>\n",
       "      <td>4854</td>\n",
       "      <td>8.050000</td>\n",
       "      <td>0.078400</td>\n",
       "      <td>259.0646</td>\n",
       "    </tr>\n",
       "    <tr>\n",
       "      <th>8445</th>\n",
       "      <td>2764</td>\n",
       "      <td>12.340830</td>\n",
       "      <td>0.026552</td>\n",
       "      <td>56.2246</td>\n",
       "    </tr>\n",
       "    <tr>\n",
       "      <th>10618</th>\n",
       "      <td>4937</td>\n",
       "      <td>8.275000</td>\n",
       "      <td>0.110198</td>\n",
       "      <td>104.2306</td>\n",
       "    </tr>\n",
       "    <tr>\n",
       "      <th>13085</th>\n",
       "      <td>7404</td>\n",
       "      <td>7.035000</td>\n",
       "      <td>0.021883</td>\n",
       "      <td>263.7910</td>\n",
       "    </tr>\n",
       "    <tr>\n",
       "      <th>11670</th>\n",
       "      <td>5989</td>\n",
       "      <td>5.820000</td>\n",
       "      <td>0.080804</td>\n",
       "      <td>171.4790</td>\n",
       "    </tr>\n",
       "    <tr>\n",
       "      <th>...</th>\n",
       "      <td>...</td>\n",
       "      <td>...</td>\n",
       "      <td>...</td>\n",
       "      <td>...</td>\n",
       "    </tr>\n",
       "    <tr>\n",
       "      <th>10568</th>\n",
       "      <td>4887</td>\n",
       "      <td>5.655000</td>\n",
       "      <td>0.175793</td>\n",
       "      <td>146.9102</td>\n",
       "    </tr>\n",
       "    <tr>\n",
       "      <th>6800</th>\n",
       "      <td>1119</td>\n",
       "      <td>18.350000</td>\n",
       "      <td>0.148939</td>\n",
       "      <td>191.9504</td>\n",
       "    </tr>\n",
       "    <tr>\n",
       "      <th>10904</th>\n",
       "      <td>5223</td>\n",
       "      <td>13.194406</td>\n",
       "      <td>0.014296</td>\n",
       "      <td>242.6512</td>\n",
       "    </tr>\n",
       "    <tr>\n",
       "      <th>9088</th>\n",
       "      <td>3407</td>\n",
       "      <td>13.337977</td>\n",
       "      <td>0.013056</td>\n",
       "      <td>215.9192</td>\n",
       "    </tr>\n",
       "    <tr>\n",
       "      <th>6166</th>\n",
       "      <td>485</td>\n",
       "      <td>12.275211</td>\n",
       "      <td>0.064636</td>\n",
       "      <td>90.0804</td>\n",
       "    </tr>\n",
       "  </tbody>\n",
       "</table>\n",
       "<p>6392 rows × 4 columns</p>\n",
       "</div>"
      ],
      "text/plain": [
       "       index  Item_Weight  Item_Visibility  Item_MRP\n",
       "10535   4854     8.050000         0.078400  259.0646\n",
       "8445    2764    12.340830         0.026552   56.2246\n",
       "10618   4937     8.275000         0.110198  104.2306\n",
       "13085   7404     7.035000         0.021883  263.7910\n",
       "11670   5989     5.820000         0.080804  171.4790\n",
       "...      ...          ...              ...       ...\n",
       "10568   4887     5.655000         0.175793  146.9102\n",
       "6800    1119    18.350000         0.148939  191.9504\n",
       "10904   5223    13.194406         0.014296  242.6512\n",
       "9088    3407    13.337977         0.013056  215.9192\n",
       "6166     485    12.275211         0.064636   90.0804\n",
       "\n",
       "[6392 rows x 4 columns]"
      ]
     },
     "execution_count": 108,
     "metadata": {},
     "output_type": "execute_result"
    }
   ],
   "source": [
    "X_train"
   ]
  },
  {
   "cell_type": "code",
   "execution_count": 110,
   "id": "d6d12877",
   "metadata": {},
   "outputs": [],
   "source": [
    "#intializing the regression model\n",
    "#writing necessary code \n",
    "from sklearn.linear_model import LinearRegression\n",
    "from sklearn.metrics import mean_squared_error, r2_score\n"
   ]
  },
  {
   "cell_type": "code",
   "execution_count": 111,
   "id": "52378454",
   "metadata": {},
   "outputs": [],
   "source": [
    "model = LinearRegression()  \n"
   ]
  },
  {
   "cell_type": "code",
   "execution_count": 112,
   "id": "be7cfdf8",
   "metadata": {},
   "outputs": [
    {
     "data": {
      "text/plain": [
       "LinearRegression()"
      ]
     },
     "execution_count": 112,
     "metadata": {},
     "output_type": "execute_result"
    }
   ],
   "source": [
    "model.fit(X_train, y_train)\n"
   ]
  },
  {
   "cell_type": "code",
   "execution_count": 113,
   "id": "fe20c97d",
   "metadata": {},
   "outputs": [
    {
     "data": {
      "text/plain": [
       "array([-2.72144279e-03, -2.22335137e+00, -4.15931545e+03,  1.54453593e+01])"
      ]
     },
     "execution_count": 113,
     "metadata": {},
     "output_type": "execute_result"
    }
   ],
   "source": [
    "model.coef_\n"
   ]
  },
  {
   "cell_type": "code",
   "execution_count": 114,
   "id": "5559d8ed",
   "metadata": {},
   "outputs": [
    {
     "data": {
      "text/plain": [
       "309.1457936436502"
      ]
     },
     "execution_count": 114,
     "metadata": {},
     "output_type": "execute_result"
    }
   ],
   "source": [
    "model.intercept_\n"
   ]
  },
  {
   "cell_type": "code",
   "execution_count": 115,
   "id": "ebeab287",
   "metadata": {},
   "outputs": [],
   "source": [
    "y_predicted_train = model.predict(X_train)\n"
   ]
  },
  {
   "cell_type": "code",
   "execution_count": 116,
   "id": "da64c142",
   "metadata": {},
   "outputs": [],
   "source": [
    "y_predicted_Test = model.predict(X_test)\n"
   ]
  },
  {
   "cell_type": "code",
   "execution_count": 117,
   "id": "1f787f65",
   "metadata": {},
   "outputs": [
    {
     "name": "stdout",
     "output_type": "stream",
     "text": [
      "The train MSE is: 1921584.317143421\n",
      "The test MSSE is: 1971045.1177403752\n"
     ]
    }
   ],
   "source": [
    "print(\"The train MSE is:\",mean_squared_error(y_train,y_predicted_train))\n",
    "print(\"The test MSSE is:\",mean_squared_error(y_test,y_predicted_Test))"
   ]
  },
  {
   "cell_type": "code",
   "execution_count": 118,
   "id": "cf1a082c",
   "metadata": {},
   "outputs": [
    {
     "name": "stdout",
     "output_type": "stream",
     "text": [
      "The train RMSSE is: 1386.212219374588\n",
      "The test RMSSE is: 1403.9391431755064\n"
     ]
    }
   ],
   "source": [
    "print(\"The train RMSSE is:\",np.sqrt(mean_squared_error(y_train,y_predicted_train)))\n",
    "print(\"The test RMSSE is:\",np.sqrt(mean_squared_error(y_test,y_predicted_Test)))"
   ]
  },
  {
   "cell_type": "code",
   "execution_count": 119,
   "id": "7bf23037",
   "metadata": {},
   "outputs": [
    {
     "data": {
      "text/plain": [
       "0.3357846836562236"
      ]
     },
     "execution_count": 119,
     "metadata": {},
     "output_type": "execute_result"
    }
   ],
   "source": [
    "r2_score(y_train,y_predicted_train)\n"
   ]
  },
  {
   "cell_type": "code",
   "execution_count": 120,
   "id": "d6181a39",
   "metadata": {},
   "outputs": [
    {
     "name": "stderr",
     "output_type": "stream",
     "text": [
      "C:\\Users\\sankar\\anaconda3\\lib\\site-packages\\seaborn\\distributions.py:2619: FutureWarning: `distplot` is a deprecated function and will be removed in a future version. Please adapt your code to use either `displot` (a figure-level function with similar flexibility) or `histplot` (an axes-level function for histograms).\n",
      "  warnings.warn(msg, FutureWarning)\n"
     ]
    },
    {
     "data": {
      "text/plain": [
       "<AxesSubplot:xlabel='Item_Outlet_Sales', ylabel='Density'>"
      ]
     },
     "execution_count": 120,
     "metadata": {},
     "output_type": "execute_result"
    },
    {
     "data": {
      "image/png": "[encoded data removed]",
      "text/plain": [
       "<Figure size 640x480 with 1 Axes>"
      ]
     },
     "metadata": {},
     "output_type": "display_data"
    }
   ],
   "source": [
    "Deviations = y_train - y_predicted_train \n",
    "sns.distplot(Deviations)"
   ]
  },
  {
   "cell_type": "code",
   "execution_count": 122,
   "id": "0e1d35ca",
   "metadata": {},
   "outputs": [],
   "source": [
    "df.to_excel(\"Pre_processed_Data.xlsx\",index = False)\n"
   ]
  },
  {
   "cell_type": "code",
   "execution_count": null,
   "id": "2969cf61",
   "metadata": {},
   "outputs": [],
   "source": []
  }
 ],
 "metadata": {
  "kernelspec": {
   "display_name": "Python 3 (ipykernel)",
   "language": "python",
   "name": "python3"
  },
  "language_info": {
   "codemirror_mode": {
    "name": "ipython",
    "version": 3
   },
   "file_extension": ".py",
   "mimetype": "text/x-python",
   "name": "python",
   "nbconvert_exporter": "python",
   "pygments_lexer": "ipython3",
   "version": "3.9.13"
  }
 },
 "nbformat": 4,
 "nbformat_minor": 5
}
