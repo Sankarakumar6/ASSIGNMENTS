{
 "cells": [
  {
   "cell_type": "markdown",
   "id": "843e6af9",
   "metadata": {},
   "source": [
    "# Understanding The Assumption Of Linear Regression Algorithm"
   ]
  },
  {
   "cell_type": "markdown",
   "id": "a1a07234",
   "metadata": {},
   "source": [
    "Define Linear Regression?\n",
    "      \n",
    "      In machine learning,Linear Regression algorthim is used to predict best fit line,to know the relationship between \n",
    "       depentent variable(target) and indepentent variable(prediction)."
   ]
  },
  {
   "cell_type": "markdown",
   "id": "e81320d8",
   "metadata": {},
   "source": [
    "# Assumptions of linear regression"
   ]
  },
  {
   "cell_type": "markdown",
   "id": "976ac8f9",
   "metadata": {},
   "source": [
    "For successful regression analysis, it’s essential to validate the following assumptions :\n",
    "1. Linearity of residuals\n",
    "2.Normal distribution of residuals\n",
    "3.No Autocorrelation\n",
    "4.Homoscedasticity\n",
    "5.Multicollinearity"
   ]
  },
  {
   "cell_type": "markdown",
   "id": "9449af63",
   "metadata": {},
   "source": [
    "# 1.Linearity of residuals"
   ]
  },
  {
   "cell_type": "markdown",
   "id": "a66716fb",
   "metadata": {},
   "source": [
    "*Residual is the differnce between actaul value and predcited value\n",
    "\n",
    "*There should be a linear relation between actual and predicted value \n",
    "\n",
    "*Use scatter plot to know about it \n",
    "\n",
    "*sample scatter plot images"
   ]
  },
  {
   "cell_type": "markdown",
   "id": "8f565de6",
   "metadata": {},
   "source": [
    "<img src=\"linear.JPg\" width=\"800\" height=\"400\">\n"
   ]
  },
  {
   "cell_type": "markdown",
   "id": "c4bc9d6d",
   "metadata": {},
   "source": [
    "# 2.Normal distribution of residuals"
   ]
  },
  {
   "cell_type": "markdown",
   "id": "2b327327",
   "metadata": {},
   "source": [
    "\n",
    "*The residual/error mean should follow a normal distribution with a mean equal to zero or close to zero \n",
    "\n",
    "*This is done to check the selected line is acutally the best fit line or not\n",
    "\n",
    "*If in case, the values are not in normally distributed,then it must be studied closely to make a better model \n",
    "\n",
    "\n"
   ]
  },
  {
   "cell_type": "markdown",
   "id": "6c8ccab4",
   "metadata": {},
   "source": [
    "<img src=\"li.jpg\" width=\"800\" height=\"400\">\n"
   ]
  },
  {
   "cell_type": "markdown",
   "id": "c0c0d50f",
   "metadata": {},
   "source": [
    "# 3.No Autocorrelation"
   ]
  },
  {
   "cell_type": "markdown",
   "id": "21f0e212",
   "metadata": {},
   "source": [
    "*The residual/ error should not be depentent on one another varibale like (time-series data)\n",
    "\n",
    "*There should be no correlation between the residual / error terms"
   ]
  },
  {
   "cell_type": "markdown",
   "id": "151339e6",
   "metadata": {},
   "source": [
    "# 4.Homoscedasticity"
   ]
  },
  {
   "cell_type": "markdown",
   "id": "c802cd2f",
   "metadata": {},
   "source": [
    "*'Homo' meanns same, 'scedasticity' means scatter\n",
    "\n",
    "*The redisual / error must have constant varience,this phenomenon is known as homoscedasticity\n",
    "\n",
    "*for an example :if there are 325 rows,there should atleast a single varience constant,the fact is when plotting between an indiviual value against predicted value,varience obtained should be constant.\n",
    "\n",
    "*So this is called Homoscedasticity"
   ]
  },
  {
   "cell_type": "markdown",
   "id": "c663f27f",
   "metadata": {},
   "source": [
    "<img src=\"li2.png\" width=\"600\" height=\"200\">\n"
   ]
  },
  {
   "cell_type": "markdown",
   "id": "b4d6c7fa",
   "metadata": {},
   "source": [
    "# 5.Multicollinearity"
   ]
  },
  {
   "cell_type": "markdown",
   "id": "9818229d",
   "metadata": {},
   "source": [
    "*This is another critical assumption in Linear Regression that is Multicollinearity\n",
    "\n",
    "*In a some manner indepedent varibale is correlated with each other,it affect the predictions,and \n",
    "hence it is necessary to detect multicollineartiy \n",
    "\n",
    "*It can be treated by using VIF- Variance Inflation Factor\n",
    "\n",
    "*If VIF < 20 then it is considered as good value \n",
    "\n",
    "*If it exceeds (VIF > 20),then we need to treat it"
   ]
  },
  {
   "cell_type": "code",
   "execution_count": null,
   "id": "fb8f6202",
   "metadata": {},
   "outputs": [],
   "source": []
  }
 ],
 "metadata": {
  "kernelspec": {
   "display_name": "Python 3 (ipykernel)",
   "language": "python",
   "name": "python3"
  },
  "language_info": {
   "codemirror_mode": {
    "name": "ipython",
    "version": 3
   },
   "file_extension": ".py",
   "mimetype": "text/x-python",
   "name": "python",
   "nbconvert_exporter": "python",
   "pygments_lexer": "ipython3",
   "version": "3.9.13"
  }
 },
 "nbformat": 4,
 "nbformat_minor": 5
}
